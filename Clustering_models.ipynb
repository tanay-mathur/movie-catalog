{
  "nbformat": 4,
  "nbformat_minor": 0,
  "metadata": {
    "colab": {
      "name": "Clustering_models.ipynb",
      "provenance": [],
      "collapsed_sections": []
    },
    "kernelspec": {
      "name": "python3",
      "display_name": "Python 3"
    },
    "language_info": {
      "name": "python"
    }
  },
  "cells": [
    {
      "cell_type": "code",
      "execution_count": 1,
      "metadata": {
        "colab": {
          "base_uri": "https://localhost:8080/"
        },
        "id": "6fjhyvavkXcW",
        "outputId": "d817dd77-e67a-4d8c-8143-481cc09ffebd"
      },
      "outputs": [
        {
          "output_type": "stream",
          "name": "stdout",
          "text": [
            "Mounted at /content/drive\n"
          ]
        }
      ],
      "source": [
        "#######################################\n",
        "###!@0 START INIT ENVIRONMENT\n",
        "from google.colab import drive\n",
        "drive.mount('/content/drive')\n",
        "!apt-get install openjdk-8-jdk-headless -qq > /dev/null\n",
        "!tar xf /content/drive/Shareddrives/DA231-2021-Aug-Public/spark-3.0.3-bin-hadoop2.7.tgz\n",
        "!pip install -q findspark\n",
        "import os\n",
        "os.environ[\"JAVA_HOME\"] = \"/usr/lib/jvm/java-8-openjdk-amd64\"\n",
        "os.environ[\"SPARK_HOME\"] = \"/content/spark-3.0.3-bin-hadoop2.7\"\n",
        "\n",
        "###!@0 END INIT ENVIRONMENT"
      ]
    },
    {
      "cell_type": "code",
      "source": [
        "#######################################\n",
        "###!@1 START OF PYSPARK INIT\n",
        "import findspark\n",
        "findspark.init()\n",
        "findspark.find()\n",
        "from pyspark.sql import SparkSession\n",
        "spark = SparkSession.builder\\\n",
        "         .master(\"local\")\\\n",
        "         .appName(\"Colab\")\\\n",
        "         .config('spark.ui.port', '4050')\\\n",
        "         .config(\"spark.sql.broadcastTimeout\", \"36000\")\\\n",
        "         .getOrCreate()\n",
        "spark\n",
        "# Spark is ready to go within Colab!\n",
        "###!@1 END OF PYSPARK INIT"
      ],
      "metadata": {
        "colab": {
          "base_uri": "https://localhost:8080/",
          "height": 222
        },
        "id": "Yi8oW2FMkdgI",
        "outputId": "6b455022-4077-4545-bcb9-bc0cb912a691"
      },
      "execution_count": 2,
      "outputs": [
        {
          "output_type": "execute_result",
          "data": {
            "text/html": [
              "\n",
              "            <div>\n",
              "                <p><b>SparkSession - in-memory</b></p>\n",
              "                \n",
              "        <div>\n",
              "            <p><b>SparkContext</b></p>\n",
              "\n",
              "            <p><a href=\"http://c2cba469076e:4050\">Spark UI</a></p>\n",
              "\n",
              "            <dl>\n",
              "              <dt>Version</dt>\n",
              "                <dd><code>v3.0.3</code></dd>\n",
              "              <dt>Master</dt>\n",
              "                <dd><code>local</code></dd>\n",
              "              <dt>AppName</dt>\n",
              "                <dd><code>Colab</code></dd>\n",
              "            </dl>\n",
              "        </div>\n",
              "        \n",
              "            </div>\n",
              "        "
            ],
            "text/plain": [
              "<pyspark.sql.session.SparkSession at 0x7ff884370110>"
            ]
          },
          "metadata": {},
          "execution_count": 2
        }
      ]
    },
    {
      "cell_type": "code",
      "source": [
        "sc = spark.sparkContext"
      ],
      "metadata": {
        "id": "64ZhH0_skeDv"
      },
      "execution_count": 3,
      "outputs": []
    },
    {
      "cell_type": "code",
      "source": [
        "from nltk.tokenize import word_tokenize\n",
        "from nltk.stem import SnowballStemmer\n",
        "from nltk import ngrams\n",
        "from nltk.corpus import stopwords\n",
        "from nltk.stem.snowball import SnowballStemmer\n",
        "from nltk.stem import WordNetLemmatizer\n",
        "import nltk\n",
        "nltk.download('punkt')\n",
        "nltk.download('stopwords')\n",
        "nltk.download('wordnet')\n",
        "nltk.download('averaged_perceptron_tagger')\n",
        "from nltk.corpus import wordnet\n",
        "from gensim.models import Phrases\n",
        "\n",
        "import warnings  \n",
        "import re\n",
        "import numpy as np\n",
        "import matplotlib.pyplot as plt\n",
        "import pandas as pd\n",
        "\n",
        "\n",
        "from pyspark.ml.feature import VectorAssembler,CountVectorizer, IDF, Tokenizer\n",
        "from pyspark.ml.feature import CountVectorizerModel, IDFModel, BucketedRandomProjectionLSHModel\n",
        "from pyspark.ml import Pipeline\n",
        "from pyspark.ml.tuning import CrossValidator\n",
        "from pyspark.ml.clustering import LDA,LocalLDAModel, DistributedLDAModel\n",
        "from pyspark.ml.evaluation import ClusteringEvaluator\n",
        "from pyspark.ml.feature import BucketedRandomProjectionLSH\n",
        "from pyspark.ml.linalg import Vectors,DenseVector\n",
        "from pyspark.sql.functions import col\n",
        "\n",
        "from pyspark.sql import SparkSession\n",
        "from pyspark.sql import functions as f\n",
        "from pyspark.sql.functions import isnan, when, count, col, lit, udf, collect_list\n",
        "from pyspark.sql.functions import pandas_udf\n",
        "from pyspark.sql.window import Window\n",
        "\n",
        "from pyspark.sql.types import FloatType\n",
        "\n",
        "import matplotlib.pyplot as plt"
      ],
      "metadata": {
        "colab": {
          "base_uri": "https://localhost:8080/"
        },
        "id": "5Zi80DELkfte",
        "outputId": "63600702-0334-4a83-8b7c-ea4221711eb0"
      },
      "execution_count": 4,
      "outputs": [
        {
          "output_type": "stream",
          "name": "stdout",
          "text": [
            "[nltk_data] Downloading package punkt to /root/nltk_data...\n",
            "[nltk_data]   Unzipping tokenizers/punkt.zip.\n",
            "[nltk_data] Downloading package stopwords to /root/nltk_data...\n",
            "[nltk_data]   Unzipping corpora/stopwords.zip.\n",
            "[nltk_data] Downloading package wordnet to /root/nltk_data...\n",
            "[nltk_data]   Unzipping corpora/wordnet.zip.\n",
            "[nltk_data] Downloading package averaged_perceptron_tagger to\n",
            "[nltk_data]     /root/nltk_data...\n",
            "[nltk_data]   Unzipping taggers/averaged_perceptron_tagger.zip.\n"
          ]
        }
      ]
    },
    {
      "cell_type": "code",
      "source": [
        "#######################################\n",
        "###!@2 START OF DEFINING INPUT FILES\n",
        "genomeScoresFile = \"/content/drive/MyDrive/Project-Building-a-Movie-Catalog/ml-25m/genome-scores.csv\"\n",
        "genomeTagsFile = \"/content/drive/MyDrive/Project-Building-a-Movie-Catalog/ml-25m/genome-tags.csv\"\n",
        "moviesFile = \"/content/drive/MyDrive/Project-Building-a-Movie-Catalog/ml-25m/movies.csv\"\n",
        "ratingsFile = \"/content/drive/MyDrive/Project-Building-a-Movie-Catalog/ml-25m/ratings.csv\"\n",
        "tagsFile = \"/content/drive/MyDrive/Project-Building-a-Movie-Catalog/ml-25m/tags.csv\"\n",
        "###!@2 END OF DEFINING INPUT FILES"
      ],
      "metadata": {
        "id": "DMTnZ6SmkloP"
      },
      "execution_count": 5,
      "outputs": []
    },
    {
      "cell_type": "code",
      "source": [
        "stop_words = list(stopwords.words('english'))\n",
        "stop_words = sc.broadcast(stop_words)\n",
        "lemmatizer = sc.broadcast(WordNetLemmatizer())\n",
        "stemmer = sc.broadcast(SnowballStemmer(\"english\"))\n",
        "excluded_words=['original','jay','bob','pack','base','based','new','york','san','fransisco']\n",
        "sim_words={'scifi':'sci-fi','sci':'sci-fi','romance':'romantic','violence':'violent'}\n",
        "similar_words = sc.broadcast(sim_words)\n",
        "excluded_tags = sc.broadcast(excluded_words)"
      ],
      "metadata": {
        "id": "DVFUjvWpkoUP"
      },
      "execution_count": 6,
      "outputs": []
    },
    {
      "cell_type": "code",
      "source": [
        "movies_df = spark.read.csv(moviesFile,header=True)\n",
        "gen_scores_df = spark.read.csv(genomeScoresFile,header=True)\n",
        "gen_tags_df = spark.read.csv(genomeTagsFile,header=True)\n",
        "ratings_df = spark.read.csv(ratingsFile,header=True)\n",
        "tags_df = spark.read.csv(tagsFile,header=True)"
      ],
      "metadata": {
        "id": "TIKTCSBrkq7Y"
      },
      "execution_count": 7,
      "outputs": []
    },
    {
      "cell_type": "code",
      "source": [
        "genome_scores_df=spark.read.csv(genomeScoresFile,header='true')\n",
        "genome_tags_df=spark.read.csv(genomeTagsFile,header='true')\n",
        "genome_scores_df=genome_scores_df.orderBy(f.col(\"relevance\").desc()).filter(f.col(\"relevance\")>=0.7)\n",
        "genome_tags_df=genome_tags_df.withColumnRenamed(\"tagId\",\"gtagId\")\n",
        "genome_df = genome_scores_df.join(genome_tags_df,f.col(\"tagId\")==f.col(\"gtagId\")).drop(\"gtagId\").select(\"tagId\",\"movieId\",\"tag\")"
      ],
      "metadata": {
        "id": "YxjobXq7kvOP"
      },
      "execution_count": 8,
      "outputs": []
    },
    {
      "cell_type": "code",
      "source": [
        "def train_bigram(df):\n",
        "  \"\"\"\n",
        "  Gensim Phraser to train bigram phraser on the corpus\n",
        "  \"\"\"\n",
        "  tagList = [x[0] for x in genome_df.select('tag').collect()]\n",
        "  tags = [doc.split(\" \") for doc in tagList]\n",
        "  bigram = Phrases(tags, min_count=1, threshold=2)\n",
        "  return bigram\n",
        "bigram_model= train_bigram(genome_df)\n",
        "bigrams_phraser = sc.broadcast(bigram_model)"
      ],
      "metadata": {
        "id": "0_yUJa2wizIx"
      },
      "execution_count": 9,
      "outputs": []
    },
    {
      "cell_type": "code",
      "source": [
        "def text_preprocessing(text):\n",
        "  \"\"\"\n",
        "  Preprocess text\n",
        "  \"\"\"\n",
        "  text = re.sub(r'[^\\w\\s-]',' ',text)\n",
        "  words = nltk.word_tokenize(text)\n",
        "  phraser = bigrams_phraser.value\n",
        "  words = phraser[words]\n",
        "  tokens=[]\n",
        "  lemm = lemmatizer.value\n",
        "  for word in words:\n",
        "    if word not in stop_words.value and word not in excluded_tags.value and len(word)>2:\n",
        "      if word in similar_words.value.keys():\n",
        "        word = similar_words.value[word]\n",
        "      tokens.append((lemm.lemmatize(word,\"v\")))\n",
        "  return tokens"
      ],
      "metadata": {
        "id": "pAKgoFt1kNNP"
      },
      "execution_count": 10,
      "outputs": []
    },
    {
      "cell_type": "code",
      "source": [
        "#to find tag length distribution\n",
        "def find_tag_len(text):\n",
        "  \"\"\"\n",
        "  Get Length of tags\n",
        "  \"\"\"\n",
        "  text = re.sub(r'[^\\w\\s-]',' ',text)\n",
        "  words = nltk.word_tokenize(text)\n",
        "  phraser = bigrams_phraser.value\n",
        "  words = phraser[words]\n",
        "  tokens=[]\n",
        "  lemm = lemmatizer.value\n",
        "  for word in words:\n",
        "    if word not in stop_words.value and word not in excluded_tags.value and len(word)>2:\n",
        "      if word in similar_words.value.keys():\n",
        "        word = similar_words.value[word]\n",
        "      tokens.append((lemm.lemmatize(word,\"v\")))\n",
        "  return len(tokens)"
      ],
      "metadata": {
        "id": "nMCKFSSNkwK-"
      },
      "execution_count": 11,
      "outputs": []
    },
    {
      "cell_type": "code",
      "source": [
        "#tag length distribution\n",
        "sample = genome_df.rdd.map(lambda x:(x[0],x[2],find_tag_len(x[2]))).toDF(['userId','tag','length'])\n",
        "tag_length_dist = sample.groupBy(f.col('length')).agg(f.sum(f.col('length')).alias('count')).select('length','count')\n",
        "tag_length_dist.show()"
      ],
      "metadata": {
        "colab": {
          "base_uri": "https://localhost:8080/"
        },
        "id": "drf2lIPn3RpW",
        "outputId": "88db686d-e83c-4a95-9055-bc54621406b0"
      },
      "execution_count": 12,
      "outputs": [
        {
          "output_type": "stream",
          "name": "stdout",
          "text": [
            "+------+------+\n",
            "|length| count|\n",
            "+------+------+\n",
            "|     0|     0|\n",
            "|     7|   280|\n",
            "|     5|  2520|\n",
            "|     1|186516|\n",
            "|     3| 15369|\n",
            "|     2| 86288|\n",
            "|     4|  3804|\n",
            "+------+------+\n",
            "\n"
          ]
        }
      ]
    },
    {
      "cell_type": "code",
      "source": [
        "#pre-process tags\n",
        "tokens=genome_df.rdd.map(lambda x:(x[1],text_preprocessing(x[2].lower())))\n",
        "tokens=tokens.reduceByKey(lambda x,y:x+y)\n",
        "tokens.cache()\n",
        "X =tokens.zipWithIndex().map(lambda x:(x[0][0],x[0][1],x[1])).toDF([\"movieId\",\"tags\",'index'])\n",
        "X.cache()"
      ],
      "metadata": {
        "colab": {
          "base_uri": "https://localhost:8080/"
        },
        "id": "R2hmZ5zOlOc-",
        "outputId": "c56f88cc-e499-46a6-9842-4c0c54dcfc2f"
      },
      "execution_count": 13,
      "outputs": [
        {
          "output_type": "execute_result",
          "data": {
            "text/plain": [
              "DataFrame[movieId: string, tags: array<string>, index: bigint]"
            ]
          },
          "metadata": {},
          "execution_count": 13
        }
      ]
    },
    {
      "cell_type": "code",
      "source": [
        "X.show(50,truncate=False)"
      ],
      "metadata": {
        "colab": {
          "base_uri": "https://localhost:8080/"
        },
        "id": "28_1Rnu10_0R",
        "outputId": "b3e6eb05-06e1-47cc-cd49-7b76473e0dfe"
      },
      "execution_count": 14,
      "outputs": [
        {
          "output_type": "stream",
          "name": "stdout",
          "text": [
            "+-------+------------------------------------------------------------------------------------------------------------------------------------------------------------------------------------------------------------------------------------------------------------------------------------------------------------------------------------------------------------------------------------------------------------------------------------------------------------------------------------------------------------------------------------------------------------------------------------------------------------------------------------------------------------------------------------------------------------------------------------------------------------------------------------------------------------------------------------------------------------------------------------------------------------------------------------------------------------------------------------------------------------------------------------------------------------------------------------------------------------------------------------------------------------------------------------------------+-----+\n",
            "|movieId|tags                                                                                                                                                                                                                                                                                                                                                                                                                                                                                                                                                                                                                                                                                                                                                                                                                                                                                                                                                                                                                                                                                                                                                                                            |index|\n",
            "+-------+------------------------------------------------------------------------------------------------------------------------------------------------------------------------------------------------------------------------------------------------------------------------------------------------------------------------------------------------------------------------------------------------------------------------------------------------------------------------------------------------------------------------------------------------------------------------------------------------------------------------------------------------------------------------------------------------------------------------------------------------------------------------------------------------------------------------------------------------------------------------------------------------------------------------------------------------------------------------------------------------------------------------------------------------------------------------------------------------------------------------------------------------------------------------------------------------+-----+\n",
            "|4      |[chick_flick, divorce, girlie, movie, relationships, romantic, women]                                                                                                                                                                                                                                                                                                                                                                                                                                                                                                                                                                                                                                                                                                                                                                                                                                                                                                                                                                                                                                                                                                                           |0    |\n",
            "|10     |[007, 007, series, action, action, pack, adventure, assassin, bond, chase, cold, war, cool, espionage, franchise, fun, movie, good, good, action, james_bond, runaway, secret_service, series, spy, spy, spy, weapons]                                                                                                                                                                                                                                                                                                                                                                                                                                                                                                                                                                                                                                                                                                                                                                                                                                                                                                                                                                          |1    |\n",
            "|12     |[comedy, farce, funniest_movies, goofy, hilarious, parody, silly, silly, fun, spoof, vampire]                                                                                                                                                                                                                                                                                                                                                                                                                                                                                                                                                                                                                                                                                                                                                                                                                                                                                                                                                                                                                                                                                                   |2    |\n",
            "|16     |[1970s, awesome, soundtrack, book, betrayal, bloody, brutal, brutality, casino, complex, cool, corruption, crime, crime, gone_awry, dialogue, dramatic, excellent_script, foul_language, gamble, gangster, gangsters, good, soundtrack, gratuitous, violent, great, great, act, great, dialogue, great, end, great, movie, great, soundtrack, greed, hit_men, hitman, imdb, top, 250, intense, las_vegas, long, mafia, masterpiece, mentor, mob, narrate, organize, crime, oscar, best, direct, oscar, best, support, actor, poker, powerful, end, redemption, storytelling, stylish, suspense, twist, turn, violent, violent, visceral]                                                                                                                                                                                                                                                                                                                                                                                                                                                                                                                                                        |3    |\n",
            "|20     |[action, action, pack, chase, good, action, new_york, train, vengeance]                                                                                                                                                                                                                                                                                                                                                                                                                                                                                                                                                                                                                                                                                                                                                                                                                                                                                                                                                                                                                                                                                                                         |4    |\n",
            "|24     |[disability, emotional, humanity, male, nudity, mentor, touch]                                                                                                                                                                                                                                                                                                                                                                                                                                                                                                                                                                                                                                                                                                                                                                                                                                                                                                                                                                                                                                                                                                                                  |5    |\n",
            "|26     |[adaptation, play, betrayal, great, act, shakespeare, tragedy]                                                                                                                                                                                                                                                                                                                                                                                                                                                                                                                                                                                                                                                                                                                                                                                                                                                                                                                                                                                                                                                                                                                                  |6    |\n",
            "|40     |[africa, book, prejudice, segregation, south_africa]                                                                                                                                                                                                                                                                                                                                                                                                                                                                                                                                                                                                                                                                                                                                                                                                                                                                                                                                                                                                                                                                                                                                            |7    |\n",
            "|44     |[action, action, pack, adapt, game, awesome, soundtrack, video_game, big, budget, computer, game, fight, scenes, fight, franchise, good, action, good, soundtrack, kung_fu, martial_arts, ninja, special, effect, video_game, video_game, adaptation, video_games, videogame, violent]                                                                                                                                                                                                                                                                                                                                                                                                                                                                                                                                                                                                                                                                                                                                                                                                                                                                                                          |8    |\n",
            "|50     |[action, amazing_photography, bad, end, caper, cerebral, cinematography, classic, clever, complex, complicate, complicate, plot, con_artists, con_men, confuse, conspiracy, cool, corruption, crime, crime, gone_awry, dark, detective, dialogue, drama, dramatic, enigmatic, ensemble_cast, entertain, excellent, excellent_script, exceptional, act, fast_paced, flashbacks, foul_language, good, good, act, good, soundtrack, great, great, act, great, dialogue, great, end, great, movie, heist, highly_quotable, imdb, top, 250, intellectual, intelligent, intense, interest, investigation, manipulation, masterpiece, mentor, mindfuck, murder, mystery, narrate, neo-noir, noir, thriller, non-linear, nonlinear, organize, crime, plot, oscar, oscar, best, actor, oscar, best, direct, oscar, best, picture, oscar, best, support, actor, oscar, best, write, -_screenplay, written_directly, for_the, screen, oscar, winner, plot, plot, twist, police, investigation, powerful, end, psychological, quotable, revenge, story, storytelling, stylish, surprise, end, suspense, suspenseful, talky, tense, thriller, tricky, twist, twist, end, twist, turn, good, violent, violent]|9    |\n",
            "|53     |[criterion, independent, film]                                                                                                                                                                                                                                                                                                                                                                                                                                                                                                                                                                                                                                                                                                                                                                                                                                                                                                                                                                                                                                                                                                                                                                  |10   |\n",
            "|54     |[childhood, children, disney, family, kid, kid, family, sport, teacher, underdog]                                                                                                                                                                                                                                                                                                                                                                                                                                                                                                                                                                                                                                                                                                                                                                                                                                                                                                                                                                                                                                                                                                               |11   |\n",
            "|56     |[kid]                                                                                                                                                                                                                                                                                                                                                                                                                                                                                                                                                                                                                                                                                                                                                                                                                                                                                                                                                                                                                                                                                                                                                                                           |12   |\n",
            "|57     |[drama, dysfunctional, family, family, holiday, off-beat, comedy, robert_downey]                                                                                                                                                                                                                                                                                                                                                                                                                                                                                                                                                                                                                                                                                                                                                                                                                                                                                                                                                                                                                                                                                                                |13   |\n",
            "|60     |[adapt, book, book, book, book, childhood, family, fantasy, fantasy, world, indians, kid, magic, native_americans]                                                                                                                                                                                                                                                                                                                                                                                                                                                                                                                                                                                                                                                                                                                                                                                                                                                                                                                                                                                                                                                                              |14   |\n",
            "|70     |[action, action, pack, blood, bloody, brothers, brutality, cool, cult, classic, cult, film, dark, humor, dialogue, foul_language, fun, movie, good, soundtrack, gore, gory, gratuitous, violent, grindhouse, horror, sexualize, violent, snake, splatter, strippers, stylish, tarantino, vampire, vampires, violent, violent]                                                                                                                                                                                                                                                                                                                                                                                                                                                                                                                                                                                                                                                                                                                                                                                                                                                                   |15   |\n",
            "|74     |[chick_flick, feel-good, happy, end, love, story, romantic, romantic, romantic, comedy, sappy, sweet]                                                                                                                                                                                                                                                                                                                                                                                                                                                                                                                                                                                                                                                                                                                                                                                                                                                                                                                                                                                                                                                                                           |16   |\n",
            "|77     |[artist, documentary, drug_abuse, music, musicians]                                                                                                                                                                                                                                                                                                                                                                                                                                                                                                                                                                                                                                                                                                                                                                                                                                                                                                                                                                                                                                                                                                                                             |17   |\n",
            "|82     |[beautiful_scenery, beautifully_filmed, foreign, intellectual, life, death, oscar, best, foreign, language, film, parenthood, reflective, relationships, women]                                                                                                                                                                                                                                                                                                                                                                                                                                                                                                                                                                                                                                                                                                                                                                                                                                                                                                                                                                                                                                 |18   |\n",
            "|83     |[book, segregation, visually, appeal]                                                                                                                                                                                                                                                                                                                                                                                                                                                                                                                                                                                                                                                                                                                                                                                                                                                                                                                                                                                                                                                                                                                                                           |19   |\n",
            "|86     |[adventure, true, story, coming_of, age, coming-of-age, courage, friendship, good, soundtrack, mentor]                                                                                                                                                                                                                                                                                                                                                                                                                                                                                                                                                                                                                                                                                                                                                                                                                                                                                                                                                                                                                                                                                          |20   |\n",
            "|88     |[comedy, funniest_movies, funny, funny, as_hell, goofy, hilarious, saturday_night, live, funny]                                                                                                                                                                                                                                                                                                                                                                                                                                                                                                                                                                                                                                                                                                                                                                                                                                                                                                                                                                                                                                                                                                 |21   |\n",
            "|102    |[comedy, funny, horrible]                                                                                                                                                                                                                                                                                                                                                                                                                                                                                                                                                                                                                                                                                                                                                                                                                                                                                                                                                                                                                                                                                                                                                                       |22   |\n",
            "|108    |[fashion, grindhouse, hip_hop]                                                                                                                                                                                                                                                                                                                                                                                                                                                                                                                                                                                                                                                                                                                                                                                                                                                                                                                                                                                                                                                                                                                                                                  |23   |\n",
            "|110    |[action, action, pack, adventure, amaze, cinematography, true, story, beautiful_scenery, beautifully_filmed, best, war, film, betrayal, big, budget, biographical, biopic, bloody, breathtaking, brutal, brutality, cinematography, courage, destiny, drama, dramatic, earnest, england, entertain, epic, excellent, excellent_script, exceptional, act, factual, fight, scenes, fight, forceful, freedom, good, good, act, good, action, good, soundtrack, great, great, act, great, end, great, movie, highly_quotable, historical, history, idealism, imdb, top, 250, inspirational, inspire, intense, interest, long, love, story, masterpiece, medieval, mentor, plot, oscar, oscar, best, actor, oscar, best, cinematography, oscar, best, direct, oscar, best, effect, visual, effect, oscar, best, picture, oscar, winner, passionate, period_piece, pg-13, powerful, end, realistic, rebellion, revenge, revolution, romantic, sacrifice, scenic, scotland, story, storytelling, suspense, sword, fight, true, story, us_history, vengeance, violent, violent, visceral, war]                                                                                                          |24   |\n",
            "|111    |[amaze, cinematography, amazing_photography, anti-hero, atmospheric, bleak, brutality, cathartic, cerebral, character_study, cinematography, classic, complex, complex, character, complicate, creepy, criterion, cult, classic, cult, film, dark, depression, dialogue, disturb, downbeat, enigmatic, excellent_script, exceptional, act, existentialism, forceful, golden_palm, good, soundtrack, great, act, great, end, great, movie, grim, gritty, gun, harsh, highly_quotable, imdb, top, 250, insanity, intense, interest, loneliness, masterpiece, melancholic, melancholy, mental_illness, mentor, moral_ambiguity, narrate, neo-noir, new_york, new_york, city, nocturnal, obsession, ominous, oscar, best, actor, oscar, best, actress, oscar, best, cinematography, oscar, best, direct, paranoia, paranoid, powerful, end, prostitution, psychological, psychology, quotable, realistic, redemption, serial_killer, social, commentary, solitude, storytelling, stylish, talky, tense, vigilante, vigilantism, violent, violent, visceral, visually, appeal, weird]                                                                                                                |25   |\n",
            "|112    |[action, action, pack, chase, fight, scenes, fight, gang, good, action, hong_kong, kung_fu, martial_arts]                                                                                                                                                                                                                                                                                                                                                                                                                                                                                                                                                                                                                                                                                                                                                                                                                                                                                                                                                                                                                                                                                       |26   |\n",
            "|113    |[drama, family, family, drama]                                                                                                                                                                                                                                                                                                                                                                                                                                                                                                                                                                                                                                                                                                                                                                                                                                                                                                                                                                                                                                                                                                                                                                  |27   |\n",
            "|115    |[criterion, france, friendship, intimate, life, melancholic, movielens, top, pick, oscar, best, foreign, language, film, relationships, spanish, wine, women]                                                                                                                                                                                                                                                                                                                                                                                                                                                                                                                                                                                                                                                                                                                                                                                                                                                                                                                                                                                                                                   |28   |\n",
            "|119    |[lawyer]                                                                                                                                                                                                                                                                                                                                                                                                                                                                                                                                                                                                                                                                                                                                                                                                                                                                                                                                                                                                                                                                                                                                                                                        |29   |\n",
            "|121    |[child_abuse, corruption, disturb, pornography, sexual, abuse]                                                                                                                                                                                                                                                                                                                                                                                                                                                                                                                                                                                                                                                                                                                                                                                                                                                                                                                                                                                                                                                                                                                                  |30   |\n",
            "|128    |[biography, documentary, drug, homeless, melancholic, narrate, new_jersey, obsession]                                                                                                                                                                                                                                                                                                                                                                                                                                                                                                                                                                                                                                                                                                                                                                                                                                                                                                                                                                                                                                                                                                           |31   |\n",
            "|141    |[comedy, cross_dressing, farce, funny, gay, gay, character, hilarious, homophobia, homosexuality, oscar, best, direct, queer, remake, stereotype]                                                                                                                                                                                                                                                                                                                                                                                                                                                                                                                                                                                                                                                                                                                                                                                                                                                                                                                                                                                                                                               |32   |\n",
            "|144    |[brothers, dialogue, happy, end, independent, film, ireland, irish, love, relationships]                                                                                                                                                                                                                                                                                                                                                                                                                                                                                                                                                                                                                                                                                                                                                                                                                                                                                                                                                                                                                                                                                                        |33   |\n",
            "|145    |[action, action, pack, big, budget, buddy, movie, car, chase, chase, comedy, detective, explosions, fast_paced, fight, scenes, good, action, gunfight, police, vengeance]                                                                                                                                                                                                                                                                                                                                                                                                                                                                                                                                                                                                                                                                                                                                                                                                                                                                                                                                                                                                                       |34   |\n",
            "|146    |[adventure, china, cute, cute, family, kid]                                                                                                                                                                                                                                                                                                                                                                                                                                                                                                                                                                                                                                                                                                                                                                                                                                                                                                                                                                                                                                                                                                                                                     |35   |\n",
            "|147    |[addiction, adolescence, book, true, story, true, story, brutality, dramatic, drug_abuse, drug_addiction, drug, good, soundtrack, great, act, harsh, heroin, intense, mentor, pornography, powerful, end, school, sexualize, violent, true, story, weed]                                                                                                                                                                                                                                                                                                                                                                                                                                                                                                                                                                                                                                                                                                                                                                                                                                                                                                                                        |36   |\n",
            "|150    |[astronauts, book, true, story, true, story, big, budget, biographical, catastrophe, courage, drama, dramatic, earnest, factual, good, good, act, great, great, act, great, end, great, movie, historical, history, mar, mentor, moon, nasa, nostalgic, oscar, oscar, best, direct, oscar, winner, period_piece, science, space, space_program, space, travel, special, effect, strand, survival, suspense, tense, true, story, us_history]                                                                                                                                                                                                                                                                                                                                                                                                                                                                                                                                                                                                                                                                                                                                                     |37   |\n",
            "|153    |[action, adapt, comic, alter_ego, batman, big, budget, comic, book, dark, hero, dc_comics, franchise, super_hero, super-hero, superhero, superheroes, vigilante]                                                                                                                                                                                                                                                                                                                                                                                                                                                                                                                                                                                                                                                                                                                                                                                                                                                                                                                                                                                                                                |38   |\n",
            "|154    |[adultery, censorship, cerebral, criterion, dream, enigmatic, erotic, fantasy, fantasy, world, golden_palm, imagination, intimate, melancholic, obsession, pornography, prostitution, sex, sexual, sexuality, sexy, stylize, surreal, surrealism, visually, appeal, weird]                                                                                                                                                                                                                                                                                                                                                                                                                                                                                                                                                                                                                                                                                                                                                                                                                                                                                                                      |39   |\n",
            "|157    |[canada, comedy, iraq, military, parody, political, politics, president, sarcasm, satire, satirical, stereotype, weapons]                                                                                                                                                                                                                                                                                                                                                                                                                                                                                                                                                                                                                                                                                                                                                                                                                                                                                                                                                                                                                                                                       |40   |\n",
            "|158    |[adapt, comic, afterlife, cartoon, childhood, children, cute, cute, family, father_daughter, relationship, fun, movie, ghost, kid, kid, family, special, effect, supernatural, sweet]                                                                                                                                                                                                                                                                                                                                                                                                                                                                                                                                                                                                                                                                                                                                                                                                                                                                                                                                                                                                           |41   |\n",
            "|160    |[action, adapt, book, adventure, africa, bad, cgi, book, book, big, budget, book, jungle, natural_disaster, silly, bad, funny, special, effect]                                                                                                                                                                                                                                                                                                                                                                                                                                                                                                                                                                                                                                                                                                                                                                                                                                                                                                                                                                                                                                                 |42   |\n",
            "|162    |[art, artist, artistic, criterion, cynical, disturb, documentary, dysfunctional, family, eccentricity, enigmatic, insanity, interest, intimate, irreverent, loneliness, mental_illness, obsession, pornography, quirky, satirical, sexual, talky, interest, weird]                                                                                                                                                                                                                                                                                                                                                                                                                                                                                                                                                                                                                                                                                                                                                                                                                                                                                                                              |43   |\n",
            "|167    |[beautifully_filmed, death, wartime]                                                                                                                                                                                                                                                                                                                                                                                                                                                                                                                                                                                                                                                                                                                                                                                                                                                                                                                                                                                                                                                                                                                                                            |44   |\n",
            "|179    |[love, love, story, nudity, topless, brief, relationships, romantic, romantic, teen, movie]                                                                                                                                                                                                                                                                                                                                                                                                                                                                                                                                                                                                                                                                                                                                                                                                                                                                                                                                                                                                                                                                                                     |45   |\n",
            "|180    |[awesome, soundtrack, comedy, crude, humor, cult, film, dialogue, funny, funny, as_hell, good, dialogue, good, soundtrack, great, great, dialogue, great, movie, hilarious, independent, film, silent_bob, new_jersey, quotable, slackers, teen, funny, view_askew]                                                                                                                                                                                                                                                                                                                                                                                                                                                                                                                                                                                                                                                                                                                                                                                                                                                                                                                             |46   |\n",
            "|185    |[action, catastrophe, chase, computers, conspiracy, espionage, first_contact, hackers, hack, identity, internet, natural_disaster, paranoia, technology, thriller, virus]                                                                                                                                                                                                                                                                                                                                                                                                                                                                                                                                                                                                                                                                                                                                                                                                                                                                                                                                                                                                                       |47   |\n",
            "|188    |[biblical, catholicism, christian, christianity, demons, devil, god, mythology, religion, supernatural]                                                                                                                                                                                                                                                                                                                                                                                                                                                                                                                                                                                                                                                                                                                                                                                                                                                                                                                                                                                                                                                                                         |48   |\n",
            "|190    |[allegory, criterion, enigmatic, environment, existentialism, independent, film, intimate, isolation, loneliness, melancholic, obsession, social, commentary, solitude, weird]                                                                                                                                                                                                                                                                                                                                                                                                                                                                                                                                                                                                                                                                                                                                                                                                                                                                                                                                                                                                                  |49   |\n",
            "+-------+------------------------------------------------------------------------------------------------------------------------------------------------------------------------------------------------------------------------------------------------------------------------------------------------------------------------------------------------------------------------------------------------------------------------------------------------------------------------------------------------------------------------------------------------------------------------------------------------------------------------------------------------------------------------------------------------------------------------------------------------------------------------------------------------------------------------------------------------------------------------------------------------------------------------------------------------------------------------------------------------------------------------------------------------------------------------------------------------------------------------------------------------------------------------------------------------+-----+\n",
            "only showing top 50 rows\n",
            "\n"
          ]
        }
      ]
    },
    {
      "cell_type": "code",
      "source": [
        "#build tf-idf model\n",
        "cv = CountVectorizer(inputCol=\"tags\", outputCol=\"features\", vocabSize=5000)\n",
        "cvmodel = cv.fit(X)\n",
        "result_tfidf = cvmodel.transform(X)\n",
        "result_tfidf.cache()\n",
        "idf = IDF(minDocFreq=3, inputCol=\"features\", outputCol=\"idf_features\")\n",
        "tf_idf_model = idf.fit(result_tfidf)\n",
        "tf=tf_idf_model.transform(result_tfidf)"
      ],
      "metadata": {
        "id": "JwPboZbDlVco"
      },
      "execution_count": 15,
      "outputs": []
    },
    {
      "cell_type": "code",
      "source": [
        "tf.select('movieId','features').show(truncate=False)"
      ],
      "metadata": {
        "colab": {
          "base_uri": "https://localhost:8080/"
        },
        "id": "ZIIepPiP0IM3",
        "outputId": "9cb35c4a-dbe3-4a54-ed18-373496925944"
      },
      "execution_count": 16,
      "outputs": [
        {
          "output_type": "stream",
          "name": "stdout",
          "text": [
            "+-------+-----------------------------------------------------------------------------------------------------------------------------------------------------------------------------------------------------------------------------------------------------------------------------------------------------------------------------------------------------------------------------------------------------------------------------------------------------------------------------------------------------------------------------------------------------------------------------------------------------------------------------------------------------------------------------------------------------------------+\n",
            "|movieId|features                                                                                                                                                                                                                                                                                                                                                                                                                                                                                                                                                                                                                                                                                                         |\n",
            "+-------+-----------------------------------------------------------------------------------------------------------------------------------------------------------------------------------------------------------------------------------------------------------------------------------------------------------------------------------------------------------------------------------------------------------------------------------------------------------------------------------------------------------------------------------------------------------------------------------------------------------------------------------------------------------------------------------------------------------------+\n",
            "|4      |(1040,[3,17,36,125,134,173,412],[1.0,1.0,1.0,1.0,1.0,1.0,1.0])                                                                                                                                                                                                                                                                                                                                                                                                                                                                                                                                                                                                                                                   |\n",
            "|10     |(1040,[0,3,8,22,24,26,85,100,112,121,137,187,219,241,249,282,405,422,536,540,849],[2.0,1.0,3.0,1.0,1.0,1.0,1.0,1.0,3.0,1.0,1.0,1.0,2.0,1.0,1.0,1.0,1.0,1.0,2.0,1.0,1.0])                                                                                                                                                                                                                                                                                                                                                                                                                                                                                                                                         |\n",
            "|12     |(1040,[6,22,70,149,162,234,342,366,442,501],[1.0,1.0,2.0,1.0,1.0,1.0,1.0,1.0,1.0,1.0])                                                                                                                                                                                                                                                                                                                                                                                                                                                                                                                                                                                                                           |\n",
            "|16     |(1040,[0,1,2,3,4,5,10,11,14,16,23,25,28,29,47,51,52,53,54,55,56,60,65,67,76,82,95,98,119,131,133,135,143,147,159,178,180,201,206,223,230,249,287,298,310,315,327,333,401,426,441,456,499,629,785,803,931],[1.0,2.0,6.0,1.0,2.0,1.0,3.0,2.0,1.0,1.0,1.0,3.0,1.0,1.0,1.0,3.0,1.0,1.0,1.0,1.0,1.0,2.0,1.0,1.0,1.0,1.0,1.0,1.0,1.0,1.0,1.0,1.0,1.0,1.0,1.0,1.0,1.0,1.0,1.0,1.0,1.0,1.0,1.0,1.0,1.0,1.0,1.0,1.0,1.0,1.0,1.0,1.0,1.0,1.0,1.0,1.0,1.0])                                                                                                                                                                                                                                                                 |\n",
            "|20     |(1040,[0,8,24,68,137,172,606],[1.0,3.0,1.0,1.0,1.0,1.0,1.0])                                                                                                                                                                                                                                                                                                                                                                                                                                                                                                                                                                                                                                                     |\n",
            "|24     |(1040,[14,30,152,199,208,475,549],[1.0,1.0,1.0,1.0,1.0,1.0,1.0])                                                                                                                                                                                                                                                                                                                                                                                                                                                                                                                                                                                                                                                 |\n",
            "|26     |(1040,[2,16,133,139,177,259,730],[1.0,1.0,1.0,1.0,1.0,1.0,1.0])                                                                                                                                                                                                                                                                                                                                                                                                                                                                                                                                                                                                                                                  |\n",
            "|40     |(1040,[5,477,480,535,865],[1.0,1.0,1.0,1.0,1.0])                                                                                                                                                                                                                                                                                                                                                                                                                                                                                                                                                                                                                                                                 |\n",
            "|44     |(1040,[0,8,10,25,35,64,69,86,88,89,100,122,137,139,210,289,333,358,379,509,580,762,789],[2.0,3.0,1.0,2.0,2.0,1.0,1.0,1.0,1.0,1.0,1.0,1.0,1.0,1.0,1.0,1.0,1.0,3.0,1.0,2.0,1.0,1.0,1.0])                                                                                                                                                                                                                                                                                                                                                                                                                                                                                                                           |\n",
            "|50     |(1040,[0,1,2,3,4,7,8,10,11,12,14,16,19,23,25,28,29,31,32,38,39,45,47,49,51,53,54,55,56,58,59,60,62,63,65,76,77,82,94,95,96,98,104,106,107,118,119,131,135,140,155,159,164,178,180,198,207,222,231,249,286,298,310,316,320,331,335,346,362,396,410,411,434,448,456,464,506,582,583,593,601,661,674,676,706,761,775,778,779,782,924],[4.0,7.0,5.0,1.0,5.0,1.0,1.0,2.0,5.0,1.0,1.0,3.0,1.0,4.0,1.0,1.0,1.0,1.0,4.0,1.0,1.0,1.0,1.0,1.0,3.0,1.0,1.0,1.0,1.0,1.0,1.0,2.0,1.0,2.0,1.0,1.0,1.0,1.0,1.0,1.0,2.0,1.0,1.0,1.0,1.0,1.0,1.0,1.0,1.0,1.0,1.0,1.0,1.0,1.0,2.0,1.0,2.0,1.0,1.0,1.0,1.0,1.0,1.0,1.0,1.0,1.0,1.0,1.0,1.0,1.0,1.0,1.0,1.0,1.0,1.0,1.0,1.0,1.0,1.0,1.0,1.0,1.0,1.0,1.0,1.0,1.0,1.0,1.0,1.0,1.0,1.0])|\n",
            "|53     |(1040,[9,21,43],[1.0,1.0,1.0])                                                                                                                                                                                                                                                                                                                                                                                                                                                                                                                                                                                                                                                                                   |\n",
            "|54     |(1040,[13,91,101,154,266,277,515,669],[2.0,2.0,1.0,1.0,1.0,1.0,1.0,1.0])                                                                                                                                                                                                                                                                                                                                                                                                                                                                                                                                                                                                                                         |\n",
            "|56     |(1040,[91],[1.0])                                                                                                                                                                                                                                                                                                                                                                                                                                                                                                                                                                                                                                                                                                |\n",
            "|57     |(1040,[6,12,13,233,242,462,673],[1.0,1.0,2.0,1.0,1.0,1.0,1.0])                                                                                                                                                                                                                                                                                                                                                                                                                                                                                                                                                                                                                                                   |\n",
            "|60     |(1040,[5,13,42,48,64,91,101,297,306,643],[4.0,1.0,1.0,2.0,1.0,1.0,1.0,1.0,1.0,1.0])                                                                                                                                                                                                                                                                                                                                                                                                                                                                                                                                                                                                                              |\n",
            "|70     |(1040,[0,3,8,9,10,22,25,38,39,40,52,60,71,80,105,131,137,185,201,213,221,249,367,383,441,456,501,511,522,753,786,942],[1.0,1.0,2.0,1.0,4.0,1.0,1.0,1.0,1.0,2.0,1.0,1.0,1.0,1.0,1.0,1.0,1.0,1.0,1.0,1.0,1.0,1.0,1.0,1.0,1.0,1.0,1.0,1.0,1.0,1.0,1.0,1.0])                                                                                                                                                                                                                                                                                                                                                                                                                                                         |\n",
            "|74     |(1040,[6,7,11,17,27,113,173,218,291,725],[1.0,1.0,1.0,3.0,1.0,1.0,1.0,1.0,1.0,1.0])                                                                                                                                                                                                                                                                                                                                                                                                                                                                                                                                                                                                                              |\n",
            "|77     |(1040,[79,123,278,402,423],[1.0,1.0,1.0,1.0,1.0])                                                                                                                                                                                                                                                                                                                                                                                                                                                                                                                                                                                                                                                                |\n",
            "|82     |(1040,[1,4,9,34,36,41,72,109,125,160,167,235,362,385],[1.0,1.0,1.0,1.0,1.0,1.0,2.0,1.0,1.0,1.0,1.0,1.0,1.0,1.0])                                                                                                                                                                                                                                                                                                                                                                                                                                                                                                                                                                                                 |\n",
            "|83     |(1040,[5,18,37,480],[1.0,1.0,1.0,1.0])                                                                                                                                                                                                                                                                                                                                                                                                                                                                                                                                                                                                                                                                           |\n",
            "+-------+-----------------------------------------------------------------------------------------------------------------------------------------------------------------------------------------------------------------------------------------------------------------------------------------------------------------------------------------------------------------------------------------------------------------------------------------------------------------------------------------------------------------------------------------------------------------------------------------------------------------------------------------------------------------------------------------------------------------+\n",
            "only showing top 20 rows\n",
            "\n"
          ]
        }
      ]
    },
    {
      "cell_type": "code",
      "source": [
        "models=[]\n",
        "perplexity_scores=[]\n",
        "for i in range(5,51,5):\n",
        "  num_topics = i\n",
        "  lda = LDA(k=num_topics, maxIter=100,featuresCol='idf_features',seed=10)\n",
        "  model = lda.fit(tf)\n",
        "  models.append(model)\n",
        "  lp = model.logPerplexity(tf)\n",
        "  perplexity_scores.append(lp)\n",
        "x=list(range(5,51,5))\n",
        "plt.plot(x,perplexity_scores)\n",
        "plt.title(\"LDA model perplexity for different topic values to choose optimal topics\")\n",
        "plt.xlabel('Number of Topics')\n",
        "plt.ylabel('perplexity')\n",
        "plt.show()"
      ],
      "metadata": {
        "colab": {
          "base_uri": "https://localhost:8080/",
          "height": 295
        },
        "id": "FqK-ATSERw04",
        "outputId": "56b238e7-08ed-4724-a12d-2c91ff537bb3"
      },
      "execution_count": 17,
      "outputs": [
        {
          "output_type": "display_data",
          "data": {
            "image/png": "[encoded data removed]",
            "text/plain": [
              "<Figure size 432x288 with 1 Axes>"
            ]
          },
          "metadata": {
            "needs_background": "light"
          }
        }
      ]
    },
    {
      "cell_type": "code",
      "source": [
        "#k=30\n",
        "vocab = cvmodel.vocabulary\n",
        "topics = models[5].describeTopics()   \n",
        "topics_rdd = topics.rdd.map(lambda row: row['termIndices']).map(lambda idx_list: [vocab[idx] for idx in idx_list]).zipWithIndex()\n",
        "columns = [\"topics\",\"topicId\"]\n",
        "topics_df = spark.createDataFrame(data=topics_rdd, schema = columns)\n",
        "print(topics_df.show(30,truncate=False))"
      ],
      "metadata": {
        "id": "XKGuBRpoa0_W",
        "colab": {
          "base_uri": "https://localhost:8080/"
        },
        "outputId": "80237a67-89db-4bce-a465-93e2d2a2fbec"
      },
      "execution_count": 18,
      "outputs": [
        {
          "output_type": "stream",
          "name": "stdout",
          "text": [
            "+---------------------------------------------------------------------------------------------------------------------+-------+\n",
            "|topics                                                                                                               |topicId|\n",
            "+---------------------------------------------------------------------------------------------------------------------+-------+\n",
            "|[funny, splatter, silly, gory, blood, fun, comedy, goofy, horror, gore]                                              |0      |\n",
            "|[spy, espionage, secrets, series, secret_service, assassination, surveillance, 007, assassin, conspiracy]            |1      |\n",
            "|[fantasy, animation, kid, family, children, cartoon, animate, computer, animals, cute]                               |2      |\n",
            "|[new_york, french, france, paris, city, prostitution, homeless, light, rome, finnish]                                |3      |\n",
            "|[comedy, funny, cult, off-beat, satire, humorous, humor, satirical, absurd, hilarious]                               |4      |\n",
            "|[foreign, life, melancholic, loneliness, intimate, death, criterion, family, language, depression]                   |5      |\n",
            "|[space, screwball, science, travel, sci-fi, mar, astronauts, mistaken_identity, first_contact, space_program]        |6      |\n",
            "|[politics, political, islam, australia, iraq, military, corruption, war, latin_america, propaganda]                  |7      |\n",
            "|[social, commentary, interest, documentary, greed, thought-provoking, powerful, manipulation, narrate, complex]      |8      |\n",
            "|[effect, sci-fi, natural_disaster, catastrophe, special, big, budget, survival, time_travel, science_fiction]        |9      |\n",
            "|[oscar, best, war, actress, direct, support, actor, great, wartime, imdb]                                            |10     |\n",
            "|[true, story, great, biographical, biopic, mentor, good, dramatic, drama, act]                                       |11     |\n",
            "|[history, historical, british, period_piece, england, us_history, war, civil, costume, london]                       |12     |\n",
            "|[sport, vampire, vampires, college, disability, goth, immortality, silent, werewolves, football]                     |13     |\n",
            "|[gay, character, homosexuality, queer, independent, homophobia, glbt, stereotype, film, transgender]                 |14     |\n",
            "|[dialogue, great, dark, soundtrack, good, humor, visually, hero, drive, clever]                                      |15     |\n",
            "|[visually, appeal, weird, surreal, art, stun, cerebral, enigmatic, cinematography, existentialism]                   |16     |\n",
            "|[music, dance, musical, musicians, roll, rock, hip_hop, documentary, artist, broadway]                               |17     |\n",
            "|[sci-fi, futuristic, future, technology, science_fiction, sci_fi, dystopia, clone, dystopic_future, post-apocalyptic]|18     |\n",
            "|[bad, horrible, predictable, pointless, stun, beautiful_scenery, island, idiotic, scenic, japan]                     |19     |\n",
            "|[book, sequel, adapt, sequels, adaptation, literature, holiday, crappy, was_better, christmas]                       |20     |\n",
            "|[crime, gangsters, gangster, great, twist, heist, organize, mob, caper, corruption]                                  |21     |\n",
            "|[action, fight, comic, scenes, pack, sword, martial_arts, superheroes, big, super_hero]                              |22     |\n",
            "|[alien, monster, sci-fi, stop_motion, monsters, effect, alien_invasion, mad_scientist, special, sci_fi]              |23     |\n",
            "|[twist, creepy, end, supernatural, suspense, murder, suspenseful, horror, mystery, turn]                             |24     |\n",
            "|[romantic, love, comedy, chick_flick, story, happy, girlie, feel-good, relationships, destiny]                       |25     |\n",
            "|[nudity, notable, pornography, topless, sexual, full, male, sexy, sex, frontal_-]                                    |26     |\n",
            "|[action, chase, gunfight, russian, religion, god, car, russia, remake, revenge]                                      |27     |\n",
            "|[violent, police, noir, investigation, murder, brutality, vengeance, crime, stylish, brutal]                         |28     |\n",
            "|[teen, movie, age, coming_of, teens, teenager, high_school, adolescence, school, coming-of-age]                      |29     |\n",
            "+---------------------------------------------------------------------------------------------------------------------+-------+\n",
            "\n",
            "None\n"
          ]
        }
      ]
    },
    {
      "cell_type": "code",
      "source": [
        "#apply lda model and join with ratings df\n",
        "def get_df(model):\n",
        "  lda_features_df = model.transform(tf)\n",
        "  lda_features_df = lda_features_df.withColumnRenamed(\"movieId\",\"cMovieId\")\n",
        "  ratings = ratings_df.groupby(\"movieId\").agg(f.mean(\"rating\").alias(\"rating\")).withColumnRenamed(\"movieId\",\"mId\")\n",
        "  clusters = lda_features_df.join(movies_df,f.col(\"movieId\")==f.col(\"cMovieId\"),how=\"left\").select(\"movieId\",\"title\",\"genres\",\"topicDistribution\")\n",
        "  clusters = clusters.join(ratings,f.col(\"movieId\")==f.col(\"mId\"),how=\"left\").select(\"movieId\",\"title\",\"genres\",\"rating\",\"topicDistribution\")\n",
        "  vecAssembler = VectorAssembler(inputCols=[\"topicDistribution\"], outputCol=\"values\")\n",
        "  norm_udf = f.udf(lambda v: float((v.norm(2))), FloatType())\n",
        "  df = vecAssembler.transform(clusters).withColumn(\"norm\",norm_udf('values')).drop('topicDistribution')\n",
        "  df.cache()\n",
        "  return lda_features_df,df"
      ],
      "metadata": {
        "id": "qT_HpEMKlz_x"
      },
      "execution_count": 19,
      "outputs": []
    },
    {
      "cell_type": "code",
      "source": [
        "lda_features_df,movies_df = get_df(models[5])\n",
        "brp = BucketedRandomProjectionLSH(inputCol=\"values\", outputCol=\"hashes\", bucketLength=2.0,\n",
        "                                  numHashTables=1)\n",
        "brp_model = brp.fit(movies_df)\n",
        "df = brp_model.transform(movies_df)"
      ],
      "metadata": {
        "id": "-Si3mGe7l2LX"
      },
      "execution_count": 20,
      "outputs": []
    },
    {
      "cell_type": "code",
      "source": [
        "vecAssembler = VectorAssembler(inputCols=[\"topicDistribution\"], outputCol=\"values\")"
      ],
      "metadata": {
        "id": "Y_QVQUuOl52G"
      },
      "execution_count": 21,
      "outputs": []
    },
    {
      "cell_type": "code",
      "source": [
        "#build similar words dataframe\n",
        "def get_semantically_sim(word):\n",
        "  sim=list()\n",
        "  syn = wordnet.synsets(word)\n",
        "  if syn:\n",
        "    for x in syn:\n",
        "      for y in x.hypernyms():\n",
        "        for z in y.hyponyms():\n",
        "            sim.extend(z.lemma_names())\n",
        "      for l in x.lemmas():\n",
        "        sim.append(l.name())\n",
        "  return list(set(sim))\n",
        "word_mappings = []\n",
        "for word in vocab:\n",
        "  word_mappings.append((word,get_semantically_sim(word)))\n",
        "word_synonyms_df = spark.createDataFrame(data=word_mappings, schema = [\"word\",\"synonyms\"])"
      ],
      "metadata": {
        "id": "3KzyV7xZlaMX"
      },
      "execution_count": 22,
      "outputs": []
    },
    {
      "cell_type": "code",
      "source": [
        "def query_preprocessing(text,movies_df):\n",
        "  \"\"\"\n",
        "  Checks if the given query is a substring of a movie name, else \n",
        "  preprocess by finding similar words to the search in vocabulary.\n",
        "  \"\"\"\n",
        "  words = text.split()\n",
        "  tokens=[]\n",
        "  for word in words:\n",
        "    if word not in vocab:\n",
        "      x = word_synonyms_df.filter(f.array_contains(word_synonyms_df.synonyms,word))\n",
        "      if not x.rdd.isEmpty():\n",
        "        tokens.append(x.first().word)\n",
        "      else:\n",
        "        word = word_synonyms_df.select('word',f.levenshtein(f.lit(word),f.col('word')).alias('score')).orderBy(f.col('score')).first().word\n",
        "        tokens.append((word))\n",
        "    else:\n",
        "      tokens.append(word)\n",
        "  return ' '.join(x for x in tokens)"
      ],
      "metadata": {
        "id": "GRewb7Tillsv"
      },
      "execution_count": 23,
      "outputs": []
    },
    {
      "cell_type": "code",
      "source": [
        "def get_lda_features(cv_model,tfidf_model,lda_model,lda_features_df,movies_df,text,id=-1):\n",
        "  \"\"\"\n",
        "  Get Lda features for the given text or movie id\n",
        "  \"\"\"\n",
        "  if id!=-1:\n",
        "    topics = lda_features_df.filter(f.col(\"cMovieId\")==id)\n",
        "    if not topics.rdd.isEmpty():\n",
        "      return topics\n",
        "  text=text.strip()\n",
        "  search_tag=text\n",
        "  if text:\n",
        "    search_tag=''\n",
        "    text=' '.join(x for x in text_preprocessing(text))\n",
        "    search_tag = query_preprocessing(text,movies_df)\n",
        "  search_tag = search_tag.strip() \n",
        "  if not search_tag: \n",
        "    search_tag = vocab[np.random.randint(len(vocab), size=1)[0]]\n",
        "  search_tag=text_preprocessing(search_tag)\n",
        "  tags_df = [(search_tag,0)]\n",
        "  tag_df=spark.createDataFrame(data=tags_df, schema = [\"tags\",\"index\"])\n",
        "  cv_features_df = cv_model.transform(tag_df)\n",
        "  tf_idf_df = tfidf_model.transform(cv_features_df)\n",
        "  features = lda_model.transform(tf_idf_df)\n",
        "  return features\n",
        "\n",
        "def get_similar_movies(cv_model,tfidf_model,lda_model,lsh_model,lda_features_df,movies_df,text,id=-1,n=10):\n",
        "  \"\"\"\n",
        "   Get Similar movies for the given text or movie id\n",
        "  \"\"\"\n",
        "  features_df = get_lda_features(cv_model,tfidf_model,lda_model,lda_features_df,movies_df,text,id)\n",
        "  features_df = vecAssembler.transform(features_df) \n",
        "  vm = (Vectors.dense(features_df.take(1)[0]['values']))\n",
        "  return lsh_model.approxNearestNeighbors(movies_df, vm, n).orderBy(f.col('distCol'),f.col('rating').desc()).select(\"title\",\"genres\",\"rating\")"
      ],
      "metadata": {
        "id": "zXjod2L60ewj"
      },
      "execution_count": 24,
      "outputs": []
    },
    {
      "cell_type": "code",
      "source": [
        "def get_topics(text,id=-1):\n",
        "  features= get_lda_features(cvmodel,tf_idf_model,models[5],lda_features_df,movies_df,text,id).select('topicDistribution').collect()\n",
        "  for i in range(len(features[0].topicDistribution)):\n",
        "    print(\"topic {}: {}\".format(i,features[0].topicDistribution[i]))"
      ],
      "metadata": {
        "id": "0SqK65AHPlis"
      },
      "execution_count": 25,
      "outputs": []
    },
    {
      "cell_type": "code",
      "source": [
        "#Ice age\n",
        "result = lda_features_df.filter(f.col(\"cMovieId\")==5218).select('topicDistribution').collect()\n",
        "for i in range(len(result[0].topicDistribution)):\n",
        "  print(\"topic {}: {}\".format(i,result[0].topicDistribution[i]))"
      ],
      "metadata": {
        "colab": {
          "base_uri": "https://localhost:8080/"
        },
        "id": "A1taQoY47ArD",
        "outputId": "bd4c8452-fdc2-44bc-8613-312a9e8b8792"
      },
      "execution_count": 26,
      "outputs": [
        {
          "output_type": "stream",
          "name": "stdout",
          "text": [
            "topic 0: 0.00027862028961146777\n",
            "topic 1: 0.00023550685902713628\n",
            "topic 2: 0.79111815909905\n",
            "topic 3: 0.00023884717377772513\n",
            "topic 4: 0.025668845450071653\n",
            "topic 5: 0.0003377540550878857\n",
            "topic 6: 0.00021795573815935844\n",
            "topic 7: 0.0002417330724309862\n",
            "topic 8: 0.00026169346062339524\n",
            "topic 9: 0.00022717560479669862\n",
            "topic 10: 0.028650301465652443\n",
            "topic 11: 0.0002597416730895724\n",
            "topic 12: 0.0002676045251800459\n",
            "topic 13: 0.00023158549101511924\n",
            "topic 14: 0.00023597960512315112\n",
            "topic 15: 0.14779569098487372\n",
            "topic 16: 0.0002855186004637902\n",
            "topic 17: 0.00024996169915260694\n",
            "topic 18: 0.00023197917307509597\n",
            "topic 19: 0.0002557798984497647\n",
            "topic 20: 0.00028930085562839906\n",
            "topic 21: 0.00025324132461422046\n",
            "topic 22: 0.0002579831732477776\n",
            "topic 23: 0.0002215003315710572\n",
            "topic 24: 0.00028733729215818006\n",
            "topic 25: 0.00029313747198744615\n",
            "topic 26: 0.00027143987032074695\n",
            "topic 27: 0.00025689265293288906\n",
            "topic 28: 0.0002918121769737201\n",
            "topic 29: 0.000286920931853785\n"
          ]
        }
      ]
    },
    {
      "cell_type": "code",
      "source": [
        "#Avengers\n",
        "result = lda_features_df.filter(f.col(\"cMovieId\")==122892).select('topicDistribution').collect()\n",
        "for i in range(len(result[0].topicDistribution)):\n",
        "  print(\"topic {}: {}\".format(i,result[0].topicDistribution[i]))"
      ],
      "metadata": {
        "colab": {
          "base_uri": "https://localhost:8080/"
        },
        "id": "5UyH8Gyf40xH",
        "outputId": "d2614b15-157f-40ce-d052-0f4133730010"
      },
      "execution_count": 27,
      "outputs": [
        {
          "output_type": "stream",
          "name": "stdout",
          "text": [
            "topic 0: 0.00015368730988630716\n",
            "topic 1: 0.00012990588615848165\n",
            "topic 2: 0.00015371892918569993\n",
            "topic 3: 0.00013174840806852702\n",
            "topic 4: 0.00015422537062316117\n",
            "topic 5: 0.00018630557091457606\n",
            "topic 6: 0.00012022466532770919\n",
            "topic 7: 0.0001333402734751829\n",
            "topic 8: 0.00014435044925907632\n",
            "topic 9: 0.0001253103556160278\n",
            "topic 10: 0.00015539966880117112\n",
            "topic 11: 0.00014327384074658696\n",
            "topic 12: 0.0001476110000665762\n",
            "topic 13: 0.00012774285452254989\n",
            "topic 14: 0.0001301666535127083\n",
            "topic 15: 0.0875007146325359\n",
            "topic 16: 0.00015749242701977418\n",
            "topic 17: 0.00013787919455185513\n",
            "topic 18: 0.038187963153357304\n",
            "topic 19: 0.00014108852076284999\n",
            "topic 20: 0.05501459578735983\n",
            "topic 21: 0.00013968824017208622\n",
            "topic 22: 0.8155305374887543\n",
            "topic 23: 0.0001221798676098015\n",
            "topic 24: 0.0001584956196960768\n",
            "topic 25: 0.00016169500634473626\n",
            "topic 26: 0.00014972658137611515\n",
            "topic 27: 0.00014170231756606576\n",
            "topic 28: 0.0001609639719122655\n",
            "topic 29: 0.00015826595481673652\n"
          ]
        }
      ]
    },
    {
      "cell_type": "code",
      "source": [
        "warnings.filterwarnings(action='ignore',category=UserWarning,module='gensim')"
      ],
      "metadata": {
        "id": "iA0whnQF2EKa"
      },
      "execution_count": 28,
      "outputs": []
    },
    {
      "cell_type": "code",
      "source": [
        "#saving pre-trained models and dataframes\n",
        "#Give a path value to which models should be stored.\n",
        "path=\"\"\n",
        "tf_idf_model.save(path+\"/tfidf_model\")\n",
        "models[5].save(path+\"/lda_model\")\n",
        "brp_model.save(path+\"/lsh_model\")\n",
        "cvmodel.save(path+\"/cv_model\")\n",
        "lda_features_df.write.parquet(path+\"/lda_features.parquet\")\n",
        "movies_df.write.parquet(path+\"/movies.parquet\")"
      ],
      "metadata": {
        "id": "yLnRN6X3E5fN"
      },
      "execution_count": 36,
      "outputs": []
    },
    {
      "cell_type": "code",
      "source": [
        "termArray = topics.rdd.zipWithIndex()\n",
        "dictDf=termArray.flatMap(lambda x: [(x[0][0], vocab[x[0][1][i]],x[0][2][i]) for i in range(10)]).toDF(['topic_id','word','probability'])"
      ],
      "metadata": {
        "id": "pJkloqKP94Zq"
      },
      "execution_count": 30,
      "outputs": []
    },
    {
      "cell_type": "code",
      "source": [
        "#k=30\n",
        "vocab = cvmodel.vocabulary\n",
        "topics = models[5].describeTopics()   \n",
        "topics_rdd = topics.rdd.map(lambda row: row['termIndices']).map(lambda idx_list: [vocab[idx] for idx in idx_list]).zipWithIndex()\n",
        "columns = [\"topics\",\"topicId\"]\n",
        "topics_df = spark.createDataFrame(data=topics_rdd, schema = columns)\n",
        "print(topics_df.show(30,truncate=False))"
      ],
      "metadata": {
        "colab": {
          "base_uri": "https://localhost:8080/"
        },
        "id": "bUckpwnXXRKp",
        "outputId": "d9138c0e-0825-454d-a8e2-d851aac1b53e"
      },
      "execution_count": 31,
      "outputs": [
        {
          "output_type": "stream",
          "name": "stdout",
          "text": [
            "+---------------------------------------------------------------------------------------------------------------------+-------+\n",
            "|topics                                                                                                               |topicId|\n",
            "+---------------------------------------------------------------------------------------------------------------------+-------+\n",
            "|[funny, splatter, silly, gory, blood, fun, comedy, goofy, horror, gore]                                              |0      |\n",
            "|[spy, espionage, secrets, series, secret_service, assassination, surveillance, 007, assassin, conspiracy]            |1      |\n",
            "|[fantasy, animation, kid, family, children, cartoon, animate, computer, animals, cute]                               |2      |\n",
            "|[new_york, french, france, paris, city, prostitution, homeless, light, rome, finnish]                                |3      |\n",
            "|[comedy, funny, cult, off-beat, satire, humorous, humor, satirical, absurd, hilarious]                               |4      |\n",
            "|[foreign, life, melancholic, loneliness, intimate, death, criterion, family, language, depression]                   |5      |\n",
            "|[space, screwball, science, travel, sci-fi, mar, astronauts, mistaken_identity, first_contact, space_program]        |6      |\n",
            "|[politics, political, islam, australia, iraq, military, corruption, war, latin_america, propaganda]                  |7      |\n",
            "|[social, commentary, interest, documentary, greed, thought-provoking, powerful, manipulation, narrate, complex]      |8      |\n",
            "|[effect, sci-fi, natural_disaster, catastrophe, special, big, budget, survival, time_travel, science_fiction]        |9      |\n",
            "|[oscar, best, war, actress, direct, support, actor, great, wartime, imdb]                                            |10     |\n",
            "|[true, story, great, biographical, biopic, mentor, good, dramatic, drama, act]                                       |11     |\n",
            "|[history, historical, british, period_piece, england, us_history, war, civil, costume, london]                       |12     |\n",
            "|[sport, vampire, vampires, college, disability, goth, immortality, silent, werewolves, football]                     |13     |\n",
            "|[gay, character, homosexuality, queer, independent, homophobia, glbt, stereotype, film, transgender]                 |14     |\n",
            "|[dialogue, great, dark, soundtrack, good, humor, visually, hero, drive, clever]                                      |15     |\n",
            "|[visually, appeal, weird, surreal, art, stun, cerebral, enigmatic, cinematography, existentialism]                   |16     |\n",
            "|[music, dance, musical, musicians, roll, rock, hip_hop, documentary, artist, broadway]                               |17     |\n",
            "|[sci-fi, futuristic, future, technology, science_fiction, sci_fi, dystopia, clone, dystopic_future, post-apocalyptic]|18     |\n",
            "|[bad, horrible, predictable, pointless, stun, beautiful_scenery, island, idiotic, scenic, japan]                     |19     |\n",
            "|[book, sequel, adapt, sequels, adaptation, literature, holiday, crappy, was_better, christmas]                       |20     |\n",
            "|[crime, gangsters, gangster, great, twist, heist, organize, mob, caper, corruption]                                  |21     |\n",
            "|[action, fight, comic, scenes, pack, sword, martial_arts, superheroes, big, super_hero]                              |22     |\n",
            "|[alien, monster, sci-fi, stop_motion, monsters, effect, alien_invasion, mad_scientist, special, sci_fi]              |23     |\n",
            "|[twist, creepy, end, supernatural, suspense, murder, suspenseful, horror, mystery, turn]                             |24     |\n",
            "|[romantic, love, comedy, chick_flick, story, happy, girlie, feel-good, relationships, destiny]                       |25     |\n",
            "|[nudity, notable, pornography, topless, sexual, full, male, sexy, sex, frontal_-]                                    |26     |\n",
            "|[action, chase, gunfight, russian, religion, god, car, russia, remake, revenge]                                      |27     |\n",
            "|[violent, police, noir, investigation, murder, brutality, vengeance, crime, stylish, brutal]                         |28     |\n",
            "|[teen, movie, age, coming_of, teens, teenager, high_school, adolescence, school, coming-of-age]                      |29     |\n",
            "+---------------------------------------------------------------------------------------------------------------------+-------+\n",
            "\n",
            "None\n"
          ]
        }
      ]
    },
    {
      "cell_type": "code",
      "source": [
        "def get_topics(text,id=-1):\n",
        "  features= get_lda_features(cvmodel,tf_idf_model,models[5],lda_features_df,movies_df,text,id).select('topicDistribution').collect()\n",
        "  for i in range(len(features[0].topicDistribution)):\n",
        "    print(\"topic {}: {}\".format(i,features[0].topicDistribution[i]))"
      ],
      "metadata": {
        "id": "P_W82s_7Njac"
      },
      "execution_count": 32,
      "outputs": []
    },
    {
      "cell_type": "code",
      "source": [
        "get_topics('robert downey')"
      ],
      "metadata": {
        "colab": {
          "base_uri": "https://localhost:8080/"
        },
        "id": "745Z255UT2zR",
        "outputId": "eb5c1ab9-a4f6-495b-de6c-705848ca15ff"
      },
      "execution_count": 33,
      "outputs": [
        {
          "output_type": "stream",
          "name": "stdout",
          "text": [
            "topic 0: 0.00536786856030925\n",
            "topic 1: 0.0045372498394649005\n",
            "topic 2: 0.005368972934140099\n",
            "topic 3: 0.004601603984513919\n",
            "topic 4: 0.005386661519304414\n",
            "topic 5: 0.006507133331038408\n",
            "topic 6: 0.004199111830794089\n",
            "topic 7: 0.00465720339786142\n",
            "topic 8: 0.005041758091918874\n",
            "topic 9: 0.004376740790701957\n",
            "topic 10: 0.0054276764754196535\n",
            "topic 11: 0.005004155163022144\n",
            "topic 12: 0.005155640026489756\n",
            "topic 13: 0.004461701184718684\n",
            "topic 14: 0.004546357714951463\n",
            "topic 15: 0.8534443364200885\n",
            "topic 16: 0.005500770675928927\n",
            "topic 17: 0.004815735236067347\n",
            "topic 18: 0.004469285820982817\n",
            "topic 19: 0.004927828038527507\n",
            "topic 20: 0.00557363919750972\n",
            "topic 21: 0.004878920147796142\n",
            "topic 22: 0.004970276094031754\n",
            "topic 23: 0.0042674015865771485\n",
            "topic 24: 0.005535809394690631\n",
            "topic 25: 0.005647555035991507\n",
            "topic 26: 0.005229531373841046\n",
            "topic 27: 0.004949266246827725\n",
            "topic 28: 0.005622022044691853\n",
            "topic 29: 0.005527787841798293\n"
          ]
        }
      ]
    },
    {
      "cell_type": "code",
      "source": [
        "get_topics('james bond')"
      ],
      "metadata": {
        "colab": {
          "base_uri": "https://localhost:8080/"
        },
        "id": "A3kxTCF1WhTq",
        "outputId": "a8781b43-d0b2-4680-f04c-f917378181e8"
      },
      "execution_count": 34,
      "outputs": [
        {
          "output_type": "stream",
          "name": "stdout",
          "text": [
            "topic 0: 0.00472432001819664\n",
            "topic 1: 0.8710065481971603\n",
            "topic 2: 0.004725291989722775\n",
            "topic 3: 0.004049922157296656\n",
            "topic 4: 0.0047408599076116794\n",
            "topic 5: 0.005726999443356016\n",
            "topic 6: 0.0036956843965128623\n",
            "topic 7: 0.004098855811041422\n",
            "topic 8: 0.004437306616759818\n",
            "topic 9: 0.0038520175931393914\n",
            "topic 10: 0.004776957620520197\n",
            "topic 11: 0.004404211866444357\n",
            "topic 12: 0.004537535356930978\n",
            "topic 13: 0.003926792168130843\n",
            "topic 14: 0.004001299309271933\n",
            "topic 15: 0.004001487590535792\n",
            "topic 16: 0.0048412886284054085\n",
            "topic 17: 0.004238381421317286\n",
            "topic 18: 0.0039334674897283815\n",
            "topic 19: 0.00433703552668677\n",
            "topic 20: 0.00490542101378945\n",
            "topic 21: 0.0042939911554183635\n",
            "topic 22: 0.004374394526092052\n",
            "topic 23: 0.003755786959878363\n",
            "topic 24: 0.004872126589245559\n",
            "topic 25: 0.004970475154269574\n",
            "topic 26: 0.0046025679424984405\n",
            "topic 27: 0.00435590352903986\n",
            "topic 28: 0.004948003288469186\n",
            "topic 29: 0.004865066732529508\n"
          ]
        }
      ]
    },
    {
      "cell_type": "code",
      "source": [
        "get_topics('happy')"
      ],
      "metadata": {
        "id": "KZdmIWTUl_Xt",
        "colab": {
          "base_uri": "https://localhost:8080/"
        },
        "outputId": "4afe98ae-8737-4859-c063-3cccf40e0a7b"
      },
      "execution_count": 35,
      "outputs": [
        {
          "output_type": "stream",
          "name": "stdout",
          "text": [
            "topic 0: 0.00727695978276131\n",
            "topic 1: 0.0061509301569455934\n",
            "topic 2: 0.007278456928949212\n",
            "topic 3: 0.006238171958810563\n",
            "topic 4: 0.007302436488323381\n",
            "topic 5: 0.008821405930309164\n",
            "topic 6: 0.005692532813106993\n",
            "topic 7: 0.0063135453943425944\n",
            "topic 8: 0.006834867593552135\n",
            "topic 9: 0.00593333580278169\n",
            "topic 10: 0.00735803848058325\n",
            "topic 11: 0.006783891121564945\n",
            "topic 12: 0.0069892518241912735\n",
            "topic 13: 0.006048512499722209\n",
            "topic 14: 0.006163277263227625\n",
            "topic 15: 0.006163567276431571\n",
            "topic 16: 0.007457128752910712\n",
            "topic 17: 0.006528459339784897\n",
            "topic 18: 0.006058794624263982\n",
            "topic 19: 0.0066804181305553986\n",
            "topic 20: 0.007555913083230115\n",
            "topic 21: 0.006614116068589239\n",
            "topic 22: 0.006737962906343092\n",
            "topic 23: 0.005785109932092799\n",
            "topic 24: 0.0075046290492394516\n",
            "topic 25: 0.8028141251877825\n",
            "topic 26: 0.007089422749937333\n",
            "topic 27: 0.006709480872659158\n",
            "topic 28: 0.007621503369051042\n",
            "topic 29: 0.007493754617956881\n"
          ]
        }
      ]
    },
    {
      "cell_type": "code",
      "source": [
        ""
      ],
      "metadata": {
        "id": "uPtN2b5GHmq_"
      },
      "execution_count": null,
      "outputs": []
    }
  ]
}