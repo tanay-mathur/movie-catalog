{
  "nbformat": 4,
  "nbformat_minor": 0,
  "metadata": {
    "colab": {
      "name": "Integrated_v7.ipynb",
      "provenance": [],
      "collapsed_sections": []
    },
    "kernelspec": {
      "name": "python3",
      "display_name": "Python 3"
    },
    "language_info": {
      "name": "python"
    }
  },
  "cells": [
    {
      "cell_type": "code",
      "metadata": {
        "colab": {
          "base_uri": "https://localhost:8080/"
        },
        "id": "Jexkjmxvhj1L",
        "outputId": "38af1f2a-adcd-4440-b99c-b59b6f780d83"
      },
      "source": [
        "#######################################\n",
        "###!@0 START INIT ENVIRONMENT\n",
        "from google.colab import drive\n",
        "drive.mount('/content/drive')\n",
        "!apt-get install openjdk-8-jdk-headless -qq > /dev/null\n",
        "!tar xf /content/drive/Shareddrives/DA231-2021-Aug-Public/spark-3.0.3-bin-hadoop2.7.tgz\n",
        "!pip install -q findspark\n",
        "import os\n",
        "os.environ[\"JAVA_HOME\"] = \"/usr/lib/jvm/java-8-openjdk-amd64\"\n",
        "os.environ[\"SPARK_HOME\"] = \"/content/spark-3.0.3-bin-hadoop2.7\"\n",
        "\n",
        "###!@0 END INIT ENVIRONMENT"
      ],
      "execution_count": 1,
      "outputs": [
        {
          "output_type": "stream",
          "name": "stdout",
          "text": [
            "Mounted at /content/drive\n"
          ]
        }
      ]
    },
    {
      "cell_type": "code",
      "metadata": {
        "colab": {
          "base_uri": "https://localhost:8080/",
          "height": 219
        },
        "id": "OBadAvBnh3gg",
        "outputId": "0a65b9e4-6be9-4e38-c47a-424334d8926a"
      },
      "source": [
        "#######################################\n",
        "###!@1 START OF PYSPARK INIT\n",
        "import findspark\n",
        "findspark.init()\n",
        "findspark.find()\n",
        "from pyspark.sql import SparkSession\n",
        "spark = SparkSession.builder\\\n",
        "         .master(\"local\")\\\n",
        "         .appName(\"Colab\")\\\n",
        "         .config('spark.ui.port', '4050')\\\n",
        "         .getOrCreate()\n",
        "spark\n",
        "# Spark is ready to go within Colab!\n",
        "###!@1 END OF PYSPARK INIT"
      ],
      "execution_count": 2,
      "outputs": [
        {
          "output_type": "execute_result",
          "data": {
            "text/html": [
              "\n",
              "            <div>\n",
              "                <p><b>SparkSession - in-memory</b></p>\n",
              "                \n",
              "        <div>\n",
              "            <p><b>SparkContext</b></p>\n",
              "\n",
              "            <p><a href=\"http://f0ee21bd0cf3:4050\">Spark UI</a></p>\n",
              "\n",
              "            <dl>\n",
              "              <dt>Version</dt>\n",
              "                <dd><code>v3.0.3</code></dd>\n",
              "              <dt>Master</dt>\n",
              "                <dd><code>local</code></dd>\n",
              "              <dt>AppName</dt>\n",
              "                <dd><code>Colab</code></dd>\n",
              "            </dl>\n",
              "        </div>\n",
              "        \n",
              "            </div>\n",
              "        "
            ],
            "text/plain": [
              "<pyspark.sql.session.SparkSession at 0x7f51364c5950>"
            ]
          },
          "metadata": {},
          "execution_count": 2
        }
      ]
    },
    {
      "cell_type": "code",
      "metadata": {
        "id": "kk8N1MYRiFlG"
      },
      "source": [
        "#######################################\n",
        "###!@2 START OF DEFINING INPUT FILES\n",
        "genomeScoresFile = \"/content/drive/Shareddrives/Project-Building-a-Movie-Catalog/ml-25m/genome-scores.csv\"\n",
        "genomeTagsFile = \"/content/drive/Shareddrives/Project-Building-a-Movie-Catalog/ml-25m/genome-tags.csv\"\n",
        "moviesFile = \"/content/drive/Shareddrives/Project-Building-a-Movie-Catalog/ml-25m/movies.csv\"\n",
        "ratingsFile = \"/content/drive/Shareddrives/Project-Building-a-Movie-Catalog/ml-25m/ratings.csv\"\n",
        "tagsFile = \"/content/drive/Shareddrives/Project-Building-a-Movie-Catalog/ml-25m/tags.csv\"\n",
        "###!@2 END OF DEFINING INPUT FILES"
      ],
      "execution_count": 3,
      "outputs": []
    },
    {
      "cell_type": "code",
      "metadata": {
        "id": "FuvvlevOiLxn"
      },
      "source": [
        "#######################################\n",
        "###!@3 Initialising spark context\n",
        "from pyspark import SparkContext\n",
        "\n",
        "\n",
        "sc = SparkContext.getOrCreate()\n",
        "\n",
        "##########################"
      ],
      "execution_count": 4,
      "outputs": []
    },
    {
      "cell_type": "code",
      "source": [
        "#Importing all necessary packages\n",
        "from pyspark.ml.clustering import LocalLDAModel\n",
        "from pyspark.ml.feature import CountVectorizerModel, VectorAssembler, BucketedRandomProjectionLSHModel, IDFModel\n",
        "from pyspark.ml.linalg import Vectors, DenseVector\n",
        "from pyspark.sql import functions as f\n",
        "from pyspark.sql.types import IntegerType, FloatType, StringType, ArrayType, StructType, StructField\n",
        "from pyspark import StorageLevel\n",
        "from pyspark.sql.functions import expr\n",
        "from pyspark.sql.functions import lit\n",
        "from pyspark.sql.functions import levenshtein \n",
        "from pyspark.sql.functions import col\n",
        "from pyspark.ml.clustering import KMeans\n",
        "from pyspark.ml.evaluation import ClusteringEvaluator\n",
        "\n",
        "from gensim.models import Phrases\n",
        "from array import array\n",
        "import time\n",
        "import re\n",
        "from nltk.tokenize import word_tokenize\n",
        "from nltk.corpus import stopwords\n",
        "from nltk.stem.snowball import SnowballStemmer\n",
        "from nltk.stem import WordNetLemmatizer\n",
        "from nltk.corpus import wordnet\n",
        "import nltk\n",
        "import numpy as np\n",
        "import warnings  \n",
        "nltk.download('punkt')\n",
        "nltk.download('stopwords')\n",
        "nltk.download('wordnet')\n",
        "nltk.download('averaged_perceptron_tagger')"
      ],
      "metadata": {
        "colab": {
          "base_uri": "https://localhost:8080/"
        },
        "id": "5BERt-fJ9gnP",
        "outputId": "af007de0-9756-42de-f0a8-75c928c156e4"
      },
      "execution_count": 5,
      "outputs": [
        {
          "output_type": "stream",
          "name": "stdout",
          "text": [
            "[nltk_data] Downloading package punkt to /root/nltk_data...\n",
            "[nltk_data]   Unzipping tokenizers/punkt.zip.\n",
            "[nltk_data] Downloading package stopwords to /root/nltk_data...\n",
            "[nltk_data]   Unzipping corpora/stopwords.zip.\n",
            "[nltk_data] Downloading package wordnet to /root/nltk_data...\n",
            "[nltk_data]   Unzipping corpora/wordnet.zip.\n",
            "[nltk_data] Downloading package averaged_perceptron_tagger to\n",
            "[nltk_data]     /root/nltk_data...\n",
            "[nltk_data]   Unzipping taggers/averaged_perceptron_tagger.zip.\n"
          ]
        },
        {
          "output_type": "execute_result",
          "data": {
            "text/plain": [
              "True"
            ]
          },
          "metadata": {},
          "execution_count": 5
        }
      ]
    },
    {
      "cell_type": "code",
      "source": [
        "warnings.filterwarnings(action='ignore',category=UserWarning,module='gensim')  "
      ],
      "metadata": {
        "id": "ibCwx3pX2hVJ"
      },
      "execution_count": 6,
      "outputs": []
    },
    {
      "cell_type": "code",
      "metadata": {
        "id": "_ZH_Jacll7T5"
      },
      "source": [
        "#Loading data and pre-trained models\n",
        "moviesDF = spark.read.option(\"header\",True).option(\"inferSchema\",True).csv(moviesFile)\n",
        "ratingsDF = spark.read.option(\"header\",True).option(\"inferSchema\",True).csv(ratingsFile)\n",
        "tagsDF = spark.read.option(\"header\",True).option(\"inferSchema\",True).csv(tagsFile)\n",
        "genome_scores_df=spark.read.csv(genomeScoresFile,header='true')\n",
        "genome_scores_df=genome_scores_df.orderBy(f.col(\"relevance\").desc()).filter(f.col(\"relevance\")>=0.7)\n",
        "genome_tags_df=spark.read.csv(genomeTagsFile,header='true')\n",
        "genome_tags_df=genome_tags_df.withColumnRenamed(\"tagId\",\"gtagId\")\n",
        "genome_df = genome_scores_df.join(genome_tags_df,f.col(\"tagId\")==f.col(\"gtagId\")).drop(\"gtagId\").select(\"tagId\",\"movieId\",\"tag\")\n",
        "lda_features_df=spark.read.parquet(\"/content/drive/Shared drives/Project-Building-a-Movie-Catalog/Clustering_by_tags/lda_features.parquet\")\n",
        "movies_df=spark.read.parquet(\"/content/drive/Shared drives/Project-Building-a-Movie-Catalog/Clustering_by_tags/movies.parquet\")\n",
        "cv_model = CountVectorizerModel.load(\"/content/drive/Shared drives/Project-Building-a-Movie-Catalog/Clustering_by_tags/cv_model\")\n",
        "tfidf_model = IDFModel.load(\"/content/drive/Shared drives/Project-Building-a-Movie-Catalog/Clustering_by_tags/tfidf_model\")\n",
        "lda_model=  LocalLDAModel.load(\"/content/drive/Shared drives/Project-Building-a-Movie-Catalog/Clustering_by_tags/lda_model\")\n",
        "lsh_model = BucketedRandomProjectionLSHModel.load(\"/content/drive/Shared drives/Project-Building-a-Movie-Catalog/Clustering_by_tags/lsh_model\")"
      ],
      "execution_count": 7,
      "outputs": []
    },
    {
      "cell_type": "code",
      "source": [
        "movies = movies_df.take(1)\n",
        "movies_df.persist()\n",
        "ratings = ratingsDF.take(1)\n",
        "ratingsDF.persist()"
      ],
      "metadata": {
        "colab": {
          "base_uri": "https://localhost:8080/"
        },
        "id": "GtsuRH3zMcsk",
        "outputId": "f31e30df-1cdb-4ff6-c5f6-9177cef80303"
      },
      "execution_count": 8,
      "outputs": [
        {
          "output_type": "execute_result",
          "data": {
            "text/plain": [
              "DataFrame[userId: int, movieId: int, rating: double, timestamp: int]"
            ]
          },
          "metadata": {},
          "execution_count": 8
        }
      ]
    },
    {
      "cell_type": "code",
      "metadata": {
        "id": "qci5Ig2zmTvz"
      },
      "source": [
        "\"\"\"\n",
        "Calculate average rating of each movie.\n",
        "Ignore movies which have less than 10 ratings.\n",
        "\"\"\"\n",
        "\n",
        "avgRating_temp = ratingsDF.groupBy(\"movieId\").agg(f.avg(\"rating\"), f.count(\"rating\"))\n",
        "avgRating = avgRating_temp.withColumn(\"countRating\", avgRating_temp[\"count(rating)\"]) \\\n",
        ".where(col(\"count(rating)\") >= 10).withColumnRenamed(\"avg(rating)\", \"ratingAvg\").select(\"movieId\", \"ratingAvg\")\n",
        "\n",
        "\n",
        "\"\"\"\n",
        "Split movie name into name and year.\n",
        "Drop movies which don't have the year in the name.\n",
        "\"\"\"\n",
        "\n",
        "movieNameDF = moviesDF.select(\"title\", \"movieId\",\"genres\")\n",
        "movieNameJoinDF = movieNameDF.join(avgRating, \"movieId\") \\\n",
        ".withColumn(\"Year\", f.element_at(f.split(f.col('title'), ' '), -1)) \\\n",
        ".withColumn(\"Year\", f.expr(\"substring(Year, 2, 4)\").cast(IntegerType())) \\\n",
        ".withColumn(\"title\", f.expr(\"substring(title, 1, length(title)-7)\")) \\\n",
        ".withColumn(\"genres\", f.split(col(\"genres\"), \"\\\\|\")) \\\n",
        ".filter(col(\"Year\").isNotNull()).orderBy(\"ratingAvg\", ascending=False)"
      ],
      "execution_count": 9,
      "outputs": []
    },
    {
      "cell_type": "code",
      "metadata": {
        "colab": {
          "base_uri": "https://localhost:8080/"
        },
        "id": "9iwbaQ3Amfm_",
        "outputId": "286b646e-d0fb-44b8-a219-b7006614a280"
      },
      "source": [
        "#persisting dataframes\n",
        "movieNameJoinDF.persist(StorageLevel.MEMORY_AND_DISK)"
      ],
      "execution_count": 10,
      "outputs": [
        {
          "output_type": "execute_result",
          "data": {
            "text/plain": [
              "DataFrame[movieId: int, title: string, genres: array<string>, ratingAvg: double, Year: int]"
            ]
          },
          "metadata": {},
          "execution_count": 10
        }
      ]
    },
    {
      "cell_type": "code",
      "source": [
        "#Initialising broadcast variables required for text pre-processing\n",
        "stop_words = list(stopwords.words('english'))\n",
        "stop_words = sc.broadcast(stop_words)\n",
        "vocab = cv_model.vocabulary\n",
        "lemmatizer = sc.broadcast(WordNetLemmatizer())\n",
        "stemmer = sc.broadcast(SnowballStemmer(\"english\"))\n",
        "excluded_words=['original','jay','bob','pack','base','based','new','york','san','fransisco']\n",
        "sim_words={'scifi':'sci-fi','sci':'sci-fi','romance':'romantic','violence':'violent'}\n",
        "similar_words = sc.broadcast(sim_words)\n",
        "excluded_tags = sc.broadcast(excluded_words)\n",
        "vecAssembler = VectorAssembler(inputCols=[\"topicDistribution\"], outputCol=\"values\")"
      ],
      "metadata": {
        "id": "8DLAh1BXOHkS"
      },
      "execution_count": 11,
      "outputs": []
    },
    {
      "cell_type": "code",
      "source": [
        "\"\"\"\n",
        "Get a list of genres available in the entire dataset\n",
        "\"\"\"\n",
        "def getAsList(s):\n",
        "  l=[]\n",
        "  for i in s.collect():\n",
        "    l.append(i.genre)\n",
        "  return l"
      ],
      "metadata": {
        "id": "gTzStZuyfdGt"
      },
      "execution_count": 12,
      "outputs": []
    },
    {
      "cell_type": "code",
      "source": [
        "\"\"\"\n",
        "Create Dictionary for genres\n",
        "\"\"\"\n",
        "def createGernerdictionary():\n",
        "  df1 = movieNameJoinDF.filter((col('genres').isNotNull())).withColumn(\"genre\", f.explode(col(\"genres\")))\n",
        "  df2 = df1.select(\"genre\").distinct()\n",
        "  gernerList = getAsList(df2)\n",
        "  return gernerList"
      ],
      "metadata": {
        "id": "qXrX6_3kfDln"
      },
      "execution_count": 13,
      "outputs": []
    },
    {
      "cell_type": "code",
      "source": [
        "#build similar words dataframe\n",
        "def get_semantically_sim(word):\n",
        "  sim=list()\n",
        "  syn = wordnet.synsets(word)\n",
        "  if syn:\n",
        "    for x in syn:\n",
        "      for y in x.hypernyms():\n",
        "        for z in y.hyponyms():\n",
        "            sim.extend(z.lemma_names())\n",
        "      for l in x.lemmas():\n",
        "        sim.append(l.name())\n",
        "  return list(set(sim))\n",
        "word_mappings = []\n",
        "for word in vocab:\n",
        "  word_mappings.append((word,get_semantically_sim(word)))\n",
        "word_synonyms_df = spark.createDataFrame(data=word_mappings, schema = [\"word\",\"synonyms\"])"
      ],
      "metadata": {
        "id": "Jr-XLQuGOfSY"
      },
      "execution_count": 14,
      "outputs": []
    },
    {
      "cell_type": "code",
      "source": [
        "#created dataframe with available tag in genre list and it's synonyms\n",
        "gernerList = createGernerdictionary()\n",
        "word_mappings_gerner= []\n",
        "for word in gernerList:\n",
        "  #word_mappings_gerner.append((word,get_semantically_sim(word)))\n",
        "  word_mappings_gerner.append((word,[word]))\n",
        "gerner_synonyms_df = spark.createDataFrame(data=word_mappings_gerner, schema = [\"word\",\"synonyms\"])\n",
        "gerner_synonyms_df = gerner_synonyms_df.withColumn(\"synonyms\", f.explode(col(\"synonyms\")))\n",
        "gerner_synonyms_df.persist(StorageLevel.MEMORY_AND_DISK)"
      ],
      "metadata": {
        "colab": {
          "base_uri": "https://localhost:8080/"
        },
        "id": "5U3ZRXaUQ9WC",
        "outputId": "7f8d5ae1-6d3f-410d-eecd-16cce381a1dc"
      },
      "execution_count": 15,
      "outputs": [
        {
          "output_type": "execute_result",
          "data": {
            "text/plain": [
              "DataFrame[word: string, synonyms: string]"
            ]
          },
          "metadata": {},
          "execution_count": 15
        }
      ]
    },
    {
      "cell_type": "code",
      "source": [
        "def searchByTitle(inputString,yearMin,yearMax,limit):\n",
        "  \"\"\"\n",
        "  Search for movies based on movie name\n",
        "  \"\"\"\n",
        "  movieNameFullStringDF = movieNameJoinDF.where(col(\"Year\").between(yearMin, yearMax)) \\\n",
        "  .where(f.upper(col(\"title\")).contains(inputString.upper())) \\\n",
        "  .limit(limit)\n",
        "  fullStringCount = movieNameFullStringDF.count()\n",
        "\n",
        "  movieNamePartialStringDF = movieNameFullStringDF.limit(0)\n",
        "\n",
        "  movieNamePartialStringDF = movieNameJoinDF.where(col(\"Year\").between(yearMin, yearMax)) \\\n",
        "  .join(inputtags, f.upper(col('title')).contains(f.upper(col('value')))) \\\n",
        "  .groupBy(\"movieId\",\"title\",\"genres\",\"ratingAvg\",\"Year\") \\\n",
        "  .count() \\\n",
        "  .orderBy(\"count\",\"ratingAvg\",ascending=False).limit(limit + fullStringCount) \\\n",
        "  .join(movieNameFullStringDF, \"title\",\"left_anti\").select(\"count\", \"movieId\",\"title\",\"genres\",\"ratingAvg\", \"Year\") \\\n",
        "  .limit(limit - fullStringCount).orderBy(\"count\",\"ratingAvg\", ascending=False) \\\n",
        "  .select(\"movieId\",\"title\",\"genres\",\"ratingAvg\", \"Year\")\n",
        "\n",
        "  titleSearchResult = movieNameFullStringDF.union(movieNamePartialStringDF)\n",
        "  titleSearchResult.persist(StorageLevel.MEMORY_AND_DISK)\n",
        "  titleSearchResult.select(\"title\",\"genres\",\"ratingAvg\", \"Year\").show(truncate=False)\n",
        "\n",
        "  if(titleSearchResult.count() > 0):\n",
        "    return titleSearchResult.first()"
      ],
      "metadata": {
        "id": "YqxQzk78Osk9"
      },
      "execution_count": 16,
      "outputs": []
    },
    {
      "cell_type": "code",
      "source": [
        "def searchByGerner(input):\n",
        "  \"\"\"\n",
        "  Search by genre\n",
        "  \"\"\"\n",
        "  distictsearch = gerner_synonyms_df.join(inputtags,levenshtein(f.upper(gerner_synonyms_df.synonyms),f.upper(inputtags.value))<2).select(\"word\").distinct()\n",
        "  outDf = movieNameJoinDF.where(col(\"Year\").between(yearMin, yearMax)) \\\n",
        "  .join(distictsearch, f.array_contains(col('genres'),col('word'))).groupBy(\"title\",\"genres\",\"ratingAvg\",\"Year\").count().orderBy(\"count\",\"ratingAvg\",ascending=False).limit(5)\n",
        "\n",
        "  outDf.select(\"title\",\"genres\",\"ratingAvg\",\"Year\").show(truncate=False)"
      ],
      "metadata": {
        "id": "hVH8KVnfOspu"
      },
      "execution_count": 17,
      "outputs": []
    },
    {
      "cell_type": "code",
      "metadata": {
        "id": "wNhXTkHVNNvr"
      },
      "source": [
        "def text_preprocessing(text):\n",
        "  text = re.sub(r'[^\\w\\s-]',' ',text)\n",
        "  words = nltk.word_tokenize(text)\n",
        "  phraser = bigram.value\n",
        "  words = phraser[words]\n",
        "  tokens=[]\n",
        "  lemm = lemmatizer.value\n",
        "  for word in words:\n",
        "    if word not in stop_words.value and word not in excluded_tags.value and len(word)>2:\n",
        "      if word in similar_words.value.keys():\n",
        "        word = similar_words.value[word]\n",
        "      tokens.append((lemm.lemmatize(word,\"v\")))\n",
        "  return tokens\n",
        "\n",
        "def remove_stop_words(text):\n",
        "  \"\"\"\n",
        "  remove stop-words\n",
        "  \"\"\"\n",
        "  return [word for word in text  if word not in stop_words.value]\n",
        "\n",
        "def train_bigrams(genome_df):\n",
        "  tagList = [x[0] for x in genome_df.select('tag').collect()]\n",
        "  tags = [doc.split(\" \") for doc in tagList]\n",
        "  bigram = Phrases(tags, min_count=1, threshold=2)  \n",
        "  return bigram"
      ],
      "execution_count": 18,
      "outputs": []
    },
    {
      "cell_type": "code",
      "source": [
        "def query_preprocessing(text,movies_df):\n",
        "  \"\"\"\n",
        "  Checks if the given query is a substring of a movie name, else \n",
        "  preprocess by finding similar words to the search in vocabulary.\n",
        "  \"\"\"\n",
        "  words = text.split()\n",
        "  tokens=[]\n",
        "  for word in words:\n",
        "    if word not in vocab:\n",
        "      x = word_synonyms_df.filter(f.array_contains(word_synonyms_df.synonyms,word))\n",
        "      if not x.rdd.isEmpty():\n",
        "        tokens.append(x.first().word)\n",
        "      else:\n",
        "        word = word_synonyms_df.select('word',f.levenshtein(f.lit(word),f.col('word')).alias('score')).orderBy(f.col('score')).first().word\n",
        "        tokens.append(word)\n",
        "    else:\n",
        "      tokens.append(word)\n",
        "  return ' '.join(x for x in tokens)"
      ],
      "metadata": {
        "id": "Nlv7jUGsSYnv"
      },
      "execution_count": 19,
      "outputs": []
    },
    {
      "cell_type": "code",
      "metadata": {
        "id": "b6FURjRdNO6U"
      },
      "source": [
        "def get_lda_features(cv_model,tfidf_model,lda_model,lda_features_df,movies_df,text,id=-1):\n",
        "  \"\"\"\n",
        "  Get Lda features for the given text or movie id\n",
        "  \"\"\"\n",
        "  if id!=-1:\n",
        "    topics = lda_features_df.filter(f.col(\"cMovieId\")==id)\n",
        "    if not topics.rdd.isEmpty():\n",
        "      return topics\n",
        "  text=text.strip()\n",
        "  search_tag=text\n",
        "  if text:\n",
        "    search_tag=''\n",
        "    text=' '.join(x for x in text_preprocessing(text))\n",
        "    search_tag = query_preprocessing(text,movies_df)\n",
        "  search_tag = search_tag.strip() \n",
        "  if not search_tag: \n",
        "    search_tag = vocab[np.random.randint(len(vocab), size=1)[0]]\n",
        "  search_tag=text_preprocessing(search_tag)\n",
        "  tags_df = [(search_tag,0)]\n",
        "  tag_df=spark.createDataFrame(data=tags_df, schema = [\"tags\",\"index\"])\n",
        "  cv_features_df = cv_model.transform(tag_df)\n",
        "  tf_idf_df = tfidf_model.transform(cv_features_df)\n",
        "  features = lda_model.transform(tf_idf_df)\n",
        "  return features\n",
        "\n",
        "def get_similar_movies(cv_model,tfidf_model,lda_model,lsh_model,lda_features_df,movies_df,text,id=-1,n=10):\n",
        "  \"\"\"\n",
        "   Get Similar movies for the given text or movie id\n",
        "  \"\"\"\n",
        "  features_df = get_lda_features(cv_model,tfidf_model,lda_model,lda_features_df,movies_df,text,id)\n",
        "  features_df = vecAssembler.transform(features_df) \n",
        "  vm = (Vectors.dense(features_df.take(1)[0]['values']))\n",
        "  return lsh_model.approxNearestNeighbors(movies_df, vm, n).orderBy(f.col('distCol'),f.col('rating').desc()).select(\"title\",\"genres\",\"rating\")\n"
      ],
      "execution_count": 20,
      "outputs": []
    },
    {
      "cell_type": "code",
      "metadata": {
        "id": "RYhEJgQsNT-z"
      },
      "source": [
        "def getSearchResult(inputString,userId,yearMin,yearMax):\n",
        "  \"\"\"\n",
        "  Master function to get movies based on the title, genres and suggestion based on tag-clustering.\n",
        "\n",
        "  \"\"\"\n",
        "  limit = 10\n",
        "  if(yearMin is None):\n",
        "    yearMin = 1800\n",
        "  if(yearMax is None):\n",
        "    yearMax = 2021\n",
        "  start_time_title = time.time()\n",
        "\n",
        "\n",
        "  print(\"Movies based on Title: \")\n",
        "  firstMovieRow = searchByTitle(inputString,yearMin,yearMax,limit)\n",
        "  print(\"--- %s seconds ---\\n\" % (time.time() - start_time_title))\n",
        "\n",
        "  # print(\"ID of first movie is\", firstMovieId)\n",
        "\n",
        "  start_time_genre = time.time()\n",
        "  print(\"Movies based on Genre: \")\n",
        "  searchByGerner(inputString)\n",
        "  print(\"--- %s seconds ---\\n\" % (time.time() - start_time_genre))\n",
        "\n",
        "  print(\"Similar movies based on Tag Clustering: \")\n",
        "  start_time_tagcluster = time.time()\n",
        "  checkExactNameExists = movieNameJoinDF.where(col(\"title\") == inputString)\n",
        "  # checkExactNameExists.show()\n",
        "  firstRow = checkExactNameExists.head(1)\n",
        "  #print(firstRow)\n",
        "  if(len(firstRow) > 0):\n",
        "    similarMovies = get_similar_movies(cv_model,tfidf_model,lda_model,lsh_model,lda_features_df,movies_df,inputString,id=firstRow[0][0])\n",
        "  elif(firstMovieRow is not None):\n",
        "    similarMovies = get_similar_movies(cv_model,tfidf_model,lda_model,lsh_model,lda_features_df,movies_df,inputString,firstMovieRow.movieId)\n",
        "  else:\n",
        "    similarMovies = get_similar_movies(cv_model,tfidf_model,lda_model,lsh_model,lda_features_df,movies_df,inputString)\n",
        "  similarMovies.show(truncate=False)\n",
        "  print(\"--- %s seconds ---\\n\" % (time.time() - start_time_tagcluster))\n",
        "  \n",
        "  # return (titleSearchResult, similarMovies)"
      ],
      "execution_count": 21,
      "outputs": []
    },
    {
      "cell_type": "code",
      "source": [
        "def get_users_clusters():\n",
        "\n",
        "    genre_vector = VectorAssembler(inputCols = genre_columns, outputCol = 'genre')\n",
        "    genres_data = genre_vector.transform(avgGenreRating).select('userId', 'genre')\n",
        "\n",
        "    ## Identify the value of k with highest ClusteringEvaluator value\n",
        "    # k_value = []\n",
        "    # wss_value = []\n",
        "\n",
        "    # for k in range(2,100):\n",
        "    #     kmeans = KMeans(featuresCol = 'genre', k=k)\n",
        "    #     model = kmeans.fit(genres_data)\n",
        "    #\n",
        "    #     evaluator = ClusteringEvaluator()\n",
        "    #     evaluator.setFeaturesCol(\"genre\")\n",
        "    #     evaluator.setPredictionCol(\"prediction\")\n",
        "    #     wss = evaluator.evaluate(model.transform(genres_data))\n",
        "    #     k_value.append(k)\n",
        "    #     wss_value.append(float(wss))\n",
        "\n",
        "    # plt.plot(k_value, wss_value)\n",
        "    # plt.xlabel('k')\n",
        "    # plt.ylabel('wss')\n",
        "    #\n",
        "    # plt.savefig('k_2to100.png')\n",
        "    # plt.show()\n",
        "\n",
        "    # k = k_value[wss_value.index(max(wss_value))]\n",
        "    k = 9\n",
        "\n",
        "    kmeans = KMeans().setK(k).setSeed(1).setFeaturesCol('genre')\n",
        "    model = kmeans.fit(genres_data)\n",
        "\n",
        "    user_clusters = model.transform(genres_data).select('userId', 'prediction')\n",
        "    user_cluster_rows = user_clusters.collect()\n",
        "\n",
        "    user_clusters_df = spark.createDataFrame(user_cluster_rows).orderBy('userId').withColumnRenamed('prediction','cluster')\n",
        "    \n",
        "    return user_clusters_df"
      ],
      "metadata": {
        "id": "7gWQtZto3G0M"
      },
      "execution_count": 22,
      "outputs": []
    },
    {
      "cell_type": "code",
      "source": [
        "def get_similar_user_movie_recommendation(user, moviesDF=moviesDF, ratingsDF=ratingsDF):\n",
        "    top_10_recommended_movies = top_recommended_movies.select('title','genres').orderBy('avg_rating', ascending=False)\n",
        "    top_10_recommended_movies.show(10,truncate=False)"
      ],
      "metadata": {
        "id": "R6POYIydDCUK"
      },
      "execution_count": 23,
      "outputs": []
    },
    {
      "cell_type": "code",
      "source": [
        "def login_processing(user):\n",
        "  cluster = user_clusters_df.filter(col('userId') == user).first()['cluster']\n",
        "  user_watched_movies = [movie[0] for movie in ratingsDF.filter(ratingsDF.userId == user).select('movieId').collect()]\n",
        "\n",
        "  cluster_filtered = movie_cluster_df.filter(movie_cluster_df.cluster == cluster)\n",
        "  top_recommended_movies = cluster_filtered.filter(~movie_cluster_df.movieId.isin(user_watched_movies))\n",
        "  movie_rows = top_recommended_movies.take(1)\n",
        "  top_recommended_movies.persist(StorageLevel.MEMORY_AND_DISK)\n",
        "\n",
        "  return top_recommended_movies"
      ],
      "metadata": {
        "id": "trLsflUACtAm"
      },
      "execution_count": 24,
      "outputs": []
    },
    {
      "cell_type": "code",
      "source": [
        "#### Pre-Processing ####\n",
        "\n",
        "\n",
        "ratedDF = ratingsDF.withColumnRenamed(\"movieId\",\"ratedmovieId\")\n",
        "moviesRatingDF = moviesDF.join(ratedDF, moviesDF.movieId == ratedDF.ratedmovieId).drop(\"ratedmovieId\").drop(\"timestamp\")\n",
        "moviesRatingDF.take(1)\n",
        "moviesRatingDF.persist(StorageLevel.MEMORY_AND_DISK)\n",
        "\n",
        "moviesGenresDF = moviesRatingDF.withColumn(\"Action\", f.when(col(\"genres\").contains(\"Action\"), col(\"rating\")).otherwise(f.lit(None).cast('double')))\\\n",
        "                        .withColumn(\"Adventure\", f.when(col(\"genres\").contains(\"Adventure\"), col(\"rating\")).otherwise(f.lit(None).cast('double')))\\\n",
        "                        .withColumn(\"Animation\", f.when(col(\"genres\").contains(\"Animation\"), col(\"rating\")).otherwise(f.lit(None).cast('double')))\\\n",
        "                        .withColumn(\"Children\", f.when(col(\"genres\").contains(\"Children\"), col(\"rating\")).otherwise(f.lit(None).cast('double')))\\\n",
        "                        .withColumn(\"Comedy\", f.when(col(\"genres\").contains(\"Comedy\"), col(\"rating\")).otherwise(f.lit(None).cast('double')))\\\n",
        "                        .withColumn(\"Crime\", f.when(col(\"genres\").contains(\"Crime\"), col(\"rating\")).otherwise(f.lit(None).cast('double')))\\\n",
        "                        .withColumn(\"Documentary\", f.when(col(\"genres\").contains(\"Documentary\"), col(\"rating\")).otherwise(f.lit(None).cast('double')))\\\n",
        "                        .withColumn(\"Drama\", f.when(col(\"genres\").contains(\"Drama\"), col(\"rating\")).otherwise(f.lit(None).cast('double')))\\\n",
        "                        .withColumn(\"Fantasy\", f.when(col(\"genres\").contains(\"Fantasy\"), col(\"rating\")).otherwise(f.lit(None).cast('double')))\\\n",
        "                        .withColumn(\"Film-Noir\", f.when(col(\"genres\").contains(\"Film-Noir\"), col(\"rating\")).otherwise(f.lit(None).cast('double')))\\\n",
        "                        .withColumn(\"Horror\", f.when(col(\"genres\").contains(\"Horror\"), col(\"rating\")).otherwise(f.lit(None).cast('double')))\\\n",
        "                        .withColumn(\"Musical\", f.when(col(\"genres\").contains(\"Musical\"), col(\"rating\")).otherwise(f.lit(None).cast('double')))\\\n",
        "                        .withColumn(\"Mystery\", f.when(col(\"genres\").contains(\"Mystery\"), col(\"rating\")).otherwise(f.lit(None).cast('double')))\\\n",
        "                        .withColumn(\"Romance\", f.when(col(\"genres\").contains(\"Romance\"), col(\"rating\")).otherwise(f.lit(None).cast('double')))\\\n",
        "                        .withColumn(\"Sci-Fi\", f.when(col(\"genres\").contains(\"Sci-Fi\"), col(\"rating\")).otherwise(f.lit(None).cast('double')))\\\n",
        "                        .withColumn(\"Thriller\", f.when(col(\"genres\").contains(\"Thriller\"), col(\"rating\")).otherwise(f.lit(None).cast('double')))\\\n",
        "                        .withColumn(\"War\", f.when(col(\"genres\").contains(\"War\"), col(\"rating\")).otherwise(f.lit(None).cast('double')))\\\n",
        "                        .withColumn(\"Western\", f.when(col(\"genres\").contains(\"Western\"), col(\"rating\")).otherwise(f.lit(None).cast('double')))\n",
        "\n",
        "avgGenreRating = moviesGenresDF.groupBy(\"userId\").agg(f.avg(\"Action\").alias(\"avg_Action\"), \\\n",
        "                                                    f.avg(\"Adventure\").alias(\"avg_Adventure\"), \\\n",
        "                                                    f.avg(\"Animation\").alias(\"avg_Animation\"), \\\n",
        "                                                    f.avg(\"Children\").alias(\"avg_Children\"), \\\n",
        "                                                    f.avg(\"Comedy\").alias(\"avg_Comedy\"), \\\n",
        "                                                    f.avg(\"Crime\").alias(\"avg_Crime\"), \\\n",
        "                                                    f.avg(\"Documentary\").alias(\"avg_Documentary\"), \\\n",
        "                                                    f.avg(\"Drama\").alias(\"avg_Drama\"), \\\n",
        "                                                    f.avg(\"Fantasy\").alias(\"avg_Fantasy\"), \\\n",
        "                                                    f.avg(\"Film-Noir\").alias(\"avg_Film-Noir\"), \\\n",
        "                                                    f.avg(\"Horror\").alias(\"avg_Horror\"), \\\n",
        "                                                    f.avg(\"Musical\").alias(\"avg_Musical\"), \\\n",
        "                                                    f.avg(\"Mystery\").alias(\"avg_Mystery\"), \\\n",
        "                                                    f.avg(\"Romance\").alias(\"avg_Romance\"), \\\n",
        "                                                    f.avg(\"Sci-Fi\").alias(\"avg_Sci-Fi\"), \\\n",
        "                                                    f.avg(\"Thriller\").alias(\"avg_Thriller\"), \\\n",
        "                                                    f.avg(\"War\").alias(\"avg_War\"), \\\n",
        "                                                    f.avg(\"Western\").alias(\"avg_Western\")).na.fill(0)\n",
        "\n",
        "genre_columns =  [\"avg_Action\", \\\n",
        "                    \"avg_Adventure\", \\\n",
        "                    \"avg_Animation\", \\\n",
        "                    \"avg_Children\", \\\n",
        "                    \"avg_Comedy\", \\\n",
        "                    \"avg_Crime\", \\\n",
        "                    \"avg_Documentary\", \\\n",
        "                    \"avg_Drama\", \\\n",
        "                    \"avg_Fantasy\", \\\n",
        "                    \"avg_Film-Noir\", \\\n",
        "                    \"avg_Horror\", \\\n",
        "                    \"avg_Musical\", \\\n",
        "                    \"avg_Mystery\", \\\n",
        "                    \"avg_Romance\", \\\n",
        "                    \"avg_Sci-Fi\", \\\n",
        "                    \"avg_Thriller\", \\\n",
        "                    \"avg_War\", \\\n",
        "                    \"avg_Western\"]\n",
        "\n",
        "avgGenreRating.take(1)\n",
        "avgGenreRating.persist()                    \n",
        "\n",
        "user_clusters_df = get_users_clusters().withColumnRenamed('userId','clusterUserId')\n",
        "uc_rows = user_clusters_df.take(1)\n",
        "\n",
        "ratings_cluster_df = ratingsDF.join(user_clusters_df, ratingsDF.userId == user_clusters_df.clusterUserId)\n",
        "\n",
        "avg_cluster_ratings = ratings_cluster_df.groupBy('cluster','movieId').agg(f.avg(col('rating')).alias('avg_rating'), f.count(\"rating\").alias('rating_count')).withColumnRenamed('movieId','ratedMovieId').filter(col('rating_count')>=10)\n",
        "\n",
        "movie_cluster_df = avg_cluster_ratings.join(moviesDF, moviesDF.movieId == avg_cluster_ratings.ratedMovieId).select('cluster','movieId','title','genres','avg_rating')\n",
        "mc_rows = movie_cluster_df.take(1)\n",
        "\n",
        "user_clusters_df.persist(StorageLevel.MEMORY_AND_DISK)\n",
        "movie_cluster_df.persist(StorageLevel.MEMORY_AND_DISK)\n",
        "\n",
        "user = 1\n",
        "login_processing(user)\n",
        "\n",
        "users = [user[0] for user in ratingsDF.select('userId').distinct().collect()]\n",
        "\n",
        "bigram = train_bigrams(genome_df)\n",
        "bigram = sc.broadcast(bigram) \n",
        "\n",
        "inputValue = \"Sample\"\n",
        "yearMin = 1800\n",
        "yearMax = 2021\n",
        "inputList = inputValue.split()\n",
        "inputList = remove_stop_words(inputList)\n",
        "inputtags = spark.createDataFrame(inputList,StringType())\n",
        "getSearchResult(inputValue,1,1900,2021)"
      ],
      "metadata": {
        "id": "q6L9xQv3ByJM"
      },
      "execution_count": null,
      "outputs": []
    },
    {
      "cell_type": "code",
      "source": [
        "avg_cluster_ratings = ratings_cluster_df.groupBy('cluster','movieId').agg(f.avg(col('rating')).alias('avg_rating'), f.count(\"rating\").alias('rating_count')).withColumnRenamed('movieId','ratedMovieId').filter(col('rating_count')>=10)\n",
        "\n",
        "movie_cluster_df = avg_cluster_ratings.join(moviesDF, moviesDF.movieId == avg_cluster_ratings.ratedMovieId).select('cluster','movieId','title','genres','avg_rating')\n",
        "mc_rows = movie_cluster_df.take(1)\n",
        "\n",
        "user_clusters_df.persist(StorageLevel.MEMORY_AND_DISK)\n",
        "movie_cluster_df.persist(StorageLevel.MEMORY_AND_DISK)\n",
        "\n",
        "user = 1\n",
        "login_processing(user)"
      ],
      "metadata": {
        "colab": {
          "base_uri": "https://localhost:8080/"
        },
        "id": "BPt0s_tXS7gA",
        "outputId": "7913e1ac-bd06-4474-fdd3-6c852a9d9621"
      },
      "execution_count": 26,
      "outputs": [
        {
          "output_type": "execute_result",
          "data": {
            "text/plain": [
              "DataFrame[cluster: bigint, movieId: int, title: string, genres: string, avg_rating: double]"
            ]
          },
          "metadata": {},
          "execution_count": 26
        }
      ]
    },
    {
      "cell_type": "code",
      "source": [
        "while True:\n",
        "  userID = int(input(\"User ID: \"))\n",
        "  if userID in users:\n",
        "    break\n",
        "  else:\n",
        "    print(\"Please enter a valid User ID!\\n\")\n",
        "\n",
        "start_time_user = time.time()    \n",
        "top_recommended_movies = login_processing(userID)\n",
        "print(\"Welcome User ID: {}\\n\".format(userID))\n",
        "print(\"Movies you might like: \")\n",
        "get_similar_user_movie_recommendation(userID)\n",
        "print(\"--- %s seconds ---\\n\" % (time.time() - start_time_user))"
      ],
      "metadata": {
        "colab": {
          "base_uri": "https://localhost:8080/"
        },
        "id": "na8N6VOmJ4O3",
        "outputId": "c06738c6-01aa-4f73-abd1-29fc249a1580"
      },
      "execution_count": 34,
      "outputs": [
        {
          "output_type": "stream",
          "name": "stdout",
          "text": [
            "User ID: 1\n",
            "Welcome User ID: 1\n",
            "\n",
            "Movies you might like: \n",
            "+-----------------------------------------------------------------+---------------------------------+\n",
            "|title                                                            |genres                           |\n",
            "+-----------------------------------------------------------------+---------------------------------+\n",
            "|There Once Was a Dog (1982)                                      |Animation|Children|Comedy        |\n",
            "|Cashback (2004)                                                  |Comedy|Drama                     |\n",
            "|Hopscotch (1980)                                                 |Comedy                           |\n",
            "|Hedgehog in the Fog (1975)                                       |Animation                        |\n",
            "|Vacations in Prostokvashino (1980)                               |Animation                        |\n",
            "|Last Year's Snow Was Falling (1983)                              |Animation|Children|Comedy|Fantasy|\n",
            "|Woman Under the Influence, A (1974)                              |Drama                            |\n",
            "|Zindagi Na Milegi Dobara (2011)                                  |Adventure|Comedy|Drama|Romance   |\n",
            "|Big Eden (2000)                                                  |Drama|Romance                    |\n",
            "|Ghost in the Shell: Stand Alone Complex - The Laughing Man (2005)|Action|Animation|Crime|Sci-Fi    |\n",
            "+-----------------------------------------------------------------+---------------------------------+\n",
            "only showing top 10 rows\n",
            "\n",
            "--- 2.5351145267486572 seconds ---\n",
            "\n"
          ]
        }
      ]
    },
    {
      "cell_type": "code",
      "source": [
        "yearMin = input(\"Starting year: \")\n",
        "yearMax = input(\"Ending year: \")"
      ],
      "metadata": {
        "id": "Btxg_evCZ2n3",
        "colab": {
          "base_uri": "https://localhost:8080/"
        },
        "outputId": "71204aed-413f-47cc-c04f-4fb0ca047efe"
      },
      "execution_count": 36,
      "outputs": [
        {
          "name": "stdout",
          "output_type": "stream",
          "text": [
            "Starting year: 1990\n",
            "Ending year: 2021\n"
          ]
        }
      ]
    },
    {
      "cell_type": "code",
      "metadata": {
        "colab": {
          "base_uri": "https://localhost:8080/"
        },
        "id": "q9nOE14_aX1H",
        "outputId": "3cd4cea6-73ea-4f9b-e0d6-556a7bca21cc"
      },
      "source": [
        "inputValue = input(\"Search key: \")\n",
        "inputList = inputValue.split()\n",
        "inputList = remove_stop_words(inputList)\n",
        "inputtags = spark.createDataFrame(inputList,StringType())\n",
        "answer = getSearchResult(inputValue,userID,yearMin,yearMax)"
      ],
      "execution_count": 39,
      "outputs": [
        {
          "output_type": "stream",
          "name": "stdout",
          "text": [
            "Search key: comedy\n",
            "Movies based on Title: \n",
            "+-----------------------------------------------------+------------------------+------------------+----+\n",
            "|title                                                |genres                  |ratingAvg         |Year|\n",
            "+-----------------------------------------------------+------------------------+------------------+----+\n",
            "|Louis C.K.: Live at The Comedy Store                 |[Comedy]                |3.944394618834081 |2015|\n",
            "|Hannibal Buress: Comedy Camisado                     |[Comedy]                |3.761904761904762 |2016|\n",
            "|Fear City: A Family-Style Comedy (La cité de la peur)|[Comedy]                |3.760869565217391 |1994|\n",
            "|King of Comedy (Hei kek ji wong)                     |[Comedy, Drama, Romance]|3.7333333333333334|1999|\n",
            "|Comedians of Comedy, The                             |[Comedy, Documentary]   |3.655982905982906 |2005|\n",
            "|The Comedians of Comedy: Live at The Troubadour      |[Comedy, Documentary]   |3.611111111111111 |2007|\n",
            "|God's Comedy (A Comédia de Deus)                     |[Comedy, Drama]         |3.6               |1995|\n",
            "|Comedy Central Roast of Rob Lowe                     |[Comedy]                |3.5294117647058822|2016|\n",
            "|Patton Oswalt: Tragedy Plus Comedy Equals Time       |[Comedy]                |3.467391304347826 |2014|\n",
            "|Comedy Central Roast of James Franco                 |[Comedy]                |3.4523809523809526|2013|\n",
            "+-----------------------------------------------------+------------------------+------------------+----+\n",
            "\n",
            "--- 2.7119953632354736 seconds ---\n",
            "\n",
            "Movies based on Genre: \n",
            "+-----------------------------------+--------------------------------+-----------------+----+\n",
            "|title                              |genres                          |ratingAvg        |Year|\n",
            "+-----------------------------------+--------------------------------+-----------------+----+\n",
            "|Kevin Smith: Silent but Deadly     |[Comedy]                        |4.230769230769231|2018|\n",
            "|Fool's Day                         |[Comedy, Drama]                 |4.214285714285714|2013|\n",
            "|Parasite                           |[Comedy, Drama]                 |4.209677419354839|2019|\n",
            "|Pulp Fiction                       |[Comedy, Crime, Drama, Thriller]|4.188912039361382|1994|\n",
            "|Life Is Beautiful (La Vita è bella)|[Comedy, Drama, Romance, War]   |4.154341841841842|1997|\n",
            "+-----------------------------------+--------------------------------+-----------------+----+\n",
            "\n",
            "--- 4.909226894378662 seconds ---\n",
            "\n",
            "Similar movies based on Tag Clustering: \n",
            "+-------------------------------------------+------------------------------------+------------------+\n",
            "|title                                      |genres                              |rating            |\n",
            "+-------------------------------------------+------------------------------------+------------------+\n",
            "|Louis C.K.: Live at The Comedy Store (2015)|Comedy                              |3.944394618834081 |\n",
            "|Louis C.K.: Shameless (2007)               |Comedy                              |3.989672977624785 |\n",
            "|TV Set, The (2006)                         |Comedy|Drama                        |3.1875            |\n",
            "|Louis C.K. 2017 (2017)                     |Comedy                              |3.502202643171806 |\n",
            "|Cecil B. DeMented (2000)                   |Comedy                              |2.9897304236200255|\n",
            "|Confessions of a Dangerous Mind (2002)     |Comedy|Crime|Drama|Romance|Thriller |3.4748953974895396|\n",
            "|Beat the Devil (1953)                      |Adventure|Comedy|Crime|Drama|Romance|3.5               |\n",
            "|I'm All Right Jack (1959)                  |Comedy                              |3.4471153846153846|\n",
            "|Haiku Tunnel (2001)                        |Comedy                              |2.982456140350877 |\n",
            "|Junk Mail (Budbringeren) (1997)            |Comedy|Thriller                     |3.1989247311827955|\n",
            "+-------------------------------------------+------------------------------------+------------------+\n",
            "\n",
            "--- 2.4184579849243164 seconds ---\n",
            "\n"
          ]
        }
      ]
    },
    {
      "cell_type": "code",
      "source": [
        ""
      ],
      "metadata": {
        "id": "xEwm1VTJ5iiE"
      },
      "execution_count": 29,
      "outputs": []
    }
  ]
}